{
 "cells": [
  {
   "cell_type": "code",
   "execution_count": 1,
   "id": "e59f8d3c-f03c-465f-9bca-68109e6e4f91",
   "metadata": {},
   "outputs": [
    {
     "name": "stdout",
     "output_type": "stream",
     "text": [
      "Requirement already satisfied: OGRePy in c:\\users\\user\\anaconda3\\lib\\site-packages (1.2.0)Note: you may need to restart the kernel to use updated packages.\n",
      "\n",
      "Requirement already satisfied: ipykernel>=6.9.2 in c:\\users\\user\\anaconda3\\lib\\site-packages (from OGRePy) (6.28.0)\n",
      "Requirement already satisfied: sympy>=1.12 in c:\\users\\user\\anaconda3\\lib\\site-packages (from OGRePy) (1.12)\n",
      "Requirement already satisfied: comm>=0.1.1 in c:\\users\\user\\anaconda3\\lib\\site-packages (from ipykernel>=6.9.2->OGRePy) (0.2.1)\n",
      "Requirement already satisfied: debugpy>=1.6.5 in c:\\users\\user\\anaconda3\\lib\\site-packages (from ipykernel>=6.9.2->OGRePy) (1.6.7)\n",
      "Requirement already satisfied: ipython>=7.23.1 in c:\\users\\user\\anaconda3\\lib\\site-packages (from ipykernel>=6.9.2->OGRePy) (8.25.0)\n",
      "Requirement already satisfied: jupyter-client>=6.1.12 in c:\\users\\user\\anaconda3\\lib\\site-packages (from ipykernel>=6.9.2->OGRePy) (8.6.0)\n",
      "Requirement already satisfied: jupyter-core!=5.0.*,>=4.12 in c:\\users\\user\\anaconda3\\lib\\site-packages (from ipykernel>=6.9.2->OGRePy) (5.7.2)\n",
      "Requirement already satisfied: matplotlib-inline>=0.1 in c:\\users\\user\\anaconda3\\lib\\site-packages (from ipykernel>=6.9.2->OGRePy) (0.1.6)\n",
      "Requirement already satisfied: nest-asyncio in c:\\users\\user\\anaconda3\\lib\\site-packages (from ipykernel>=6.9.2->OGRePy) (1.6.0)\n",
      "Requirement already satisfied: packaging in c:\\users\\user\\anaconda3\\lib\\site-packages (from ipykernel>=6.9.2->OGRePy) (23.2)\n",
      "Requirement already satisfied: psutil in c:\\users\\user\\anaconda3\\lib\\site-packages (from ipykernel>=6.9.2->OGRePy) (5.9.0)\n",
      "Requirement already satisfied: pyzmq>=24 in c:\\users\\user\\anaconda3\\lib\\site-packages (from ipykernel>=6.9.2->OGRePy) (25.1.2)\n",
      "Requirement already satisfied: tornado>=6.1 in c:\\users\\user\\anaconda3\\lib\\site-packages (from ipykernel>=6.9.2->OGRePy) (6.4.1)\n",
      "Requirement already satisfied: traitlets>=5.4.0 in c:\\users\\user\\anaconda3\\lib\\site-packages (from ipykernel>=6.9.2->OGRePy) (5.14.3)\n",
      "Requirement already satisfied: mpmath>=0.19 in c:\\users\\user\\anaconda3\\lib\\site-packages (from sympy>=1.12->OGRePy) (1.3.0)\n",
      "Requirement already satisfied: decorator in c:\\users\\user\\anaconda3\\lib\\site-packages (from ipython>=7.23.1->ipykernel>=6.9.2->OGRePy) (5.1.1)\n",
      "Requirement already satisfied: jedi>=0.16 in c:\\users\\user\\anaconda3\\lib\\site-packages (from ipython>=7.23.1->ipykernel>=6.9.2->OGRePy) (0.18.1)\n",
      "Requirement already satisfied: prompt-toolkit<3.1.0,>=3.0.41 in c:\\users\\user\\anaconda3\\lib\\site-packages (from ipython>=7.23.1->ipykernel>=6.9.2->OGRePy) (3.0.43)\n",
      "Requirement already satisfied: pygments>=2.4.0 in c:\\users\\user\\anaconda3\\lib\\site-packages (from ipython>=7.23.1->ipykernel>=6.9.2->OGRePy) (2.15.1)\n",
      "Requirement already satisfied: stack-data in c:\\users\\user\\anaconda3\\lib\\site-packages (from ipython>=7.23.1->ipykernel>=6.9.2->OGRePy) (0.2.0)\n",
      "Requirement already satisfied: colorama in c:\\users\\user\\anaconda3\\lib\\site-packages (from ipython>=7.23.1->ipykernel>=6.9.2->OGRePy) (0.4.6)\n",
      "Requirement already satisfied: python-dateutil>=2.8.2 in c:\\users\\user\\anaconda3\\lib\\site-packages (from jupyter-client>=6.1.12->ipykernel>=6.9.2->OGRePy) (2.9.0.post0)\n",
      "Requirement already satisfied: platformdirs>=2.5 in c:\\users\\user\\anaconda3\\lib\\site-packages (from jupyter-core!=5.0.*,>=4.12->ipykernel>=6.9.2->OGRePy) (3.10.0)\n",
      "Requirement already satisfied: pywin32>=300 in c:\\users\\user\\anaconda3\\lib\\site-packages (from jupyter-core!=5.0.*,>=4.12->ipykernel>=6.9.2->OGRePy) (305.1)\n",
      "Requirement already satisfied: parso<0.9.0,>=0.8.0 in c:\\users\\user\\anaconda3\\lib\\site-packages (from jedi>=0.16->ipython>=7.23.1->ipykernel>=6.9.2->OGRePy) (0.8.3)\n",
      "Requirement already satisfied: wcwidth in c:\\users\\user\\anaconda3\\lib\\site-packages (from prompt-toolkit<3.1.0,>=3.0.41->ipython>=7.23.1->ipykernel>=6.9.2->OGRePy) (0.2.5)\n",
      "Requirement already satisfied: six>=1.5 in c:\\users\\user\\anaconda3\\lib\\site-packages (from python-dateutil>=2.8.2->jupyter-client>=6.1.12->ipykernel>=6.9.2->OGRePy) (1.16.0)\n",
      "Requirement already satisfied: executing in c:\\users\\user\\anaconda3\\lib\\site-packages (from stack-data->ipython>=7.23.1->ipykernel>=6.9.2->OGRePy) (0.8.3)\n",
      "Requirement already satisfied: asttokens in c:\\users\\user\\anaconda3\\lib\\site-packages (from stack-data->ipython>=7.23.1->ipykernel>=6.9.2->OGRePy) (2.0.5)\n",
      "Requirement already satisfied: pure-eval in c:\\users\\user\\anaconda3\\lib\\site-packages (from stack-data->ipython>=7.23.1->ipykernel>=6.9.2->OGRePy) (0.2.2)\n"
     ]
    }
   ],
   "source": [
    "pip install OGRePy"
   ]
  },
  {
   "cell_type": "code",
   "execution_count": null,
   "id": "38e7c497-4aa1-4f7c-bf83-87eeca6b91dc",
   "metadata": {},
   "outputs": [],
   "source": [
    "import OGRePy as T"
   ]
  },
  {
   "cell_type": "code",
   "execution_count": null,
   "id": "cb16a739-e656-484c-89f5-06f76db204e5",
   "metadata": {},
   "outputs": [],
   "source": [
    "import sympy as sp"
   ]
  },
  {
   "cell_type": "code",
   "execution_count": null,
   "id": "66e7f8d6-4090-4abc-b895-307348e11c4d",
   "metadata": {},
   "outputs": [],
   "source": [
    "from OGRePy.abc import phi, theta,t,A,B\n",
    "r = T.sym(\"r\", nonnegative=True)\n",
    "Spherical = T.Coordinates(t, r, theta, phi)"
   ]
  },
  {
   "cell_type": "code",
   "execution_count": null,
   "id": "64090c7d-7e69-4014-9a47-ba2874a993d9",
   "metadata": {},
   "outputs": [],
   "source": [
    "from IPython.core.interactiveshell import InteractiveShell\n",
    "InteractiveShell.ast_node_interactivity = \"last_expr_or_assign\""
   ]
  },
  {
   "cell_type": "code",
   "execution_count": null,
   "id": "5a48f4dd-3a71-4338-8ca4-ac94689a5a38",
   "metadata": {},
   "outputs": [],
   "source": [
    "A_r = T.func(\"A\")(r)\n",
    "B_r = T.func(\"B\")(r)\n",
    "Schwarzschild=T.Metric(coords=Spherical,components=T.diag(-A_r,B_r,r**2,r**2 *T.s.sin(theta) ** 2))"
   ]
  },
  {
   "cell_type": "code",
   "execution_count": null,
   "id": "48d07d2e-e3a3-4b31-93d9-94fe93d25e22",
   "metadata": {},
   "outputs": [],
   "source": [
    "Schwarzschild.line_element()"
   ]
  },
  {
   "cell_type": "code",
   "execution_count": null,
   "id": "2126a404-0378-48be-bd08-f54f65b96337",
   "metadata": {},
   "outputs": [],
   "source": [
    "~Schwarzschild"
   ]
  },
  {
   "cell_type": "code",
   "execution_count": null,
   "id": "6f11eb6a-f7c1-4a80-ae69-359a209a2779",
   "metadata": {},
   "outputs": [],
   "source": [
    "~Schwarzschild.christoffel()"
   ]
  },
  {
   "cell_type": "code",
   "execution_count": null,
   "id": "4c56950d-ef7b-4865-9187-fc026fb8c94b",
   "metadata": {},
   "outputs": [],
   "source": [
    "~Schwarzschild.ricci_tensor()"
   ]
  },
  {
   "cell_type": "code",
   "execution_count": null,
   "id": "c26cc96d-b381-4ccd-b0dd-1ed1978b11c0",
   "metadata": {},
   "outputs": [],
   "source": [
    "~Schwarzschild.ricci_scalar()"
   ]
  },
  {
   "cell_type": "code",
   "execution_count": null,
   "id": "a3e8b7fe-fe27-4672-8680-25a5256dcbc9",
   "metadata": {},
   "outputs": [],
   "source": [
    "~Schwarzschild.einstein()"
   ]
  },
  {
   "cell_type": "code",
   "execution_count": null,
   "id": "37d73ada",
   "metadata": {},
   "outputs": [],
   "source": [
    "Schwarzschild.einstein()"
   ]
  },
  {
   "cell_type": "code",
   "execution_count": null,
   "id": "3c167962-3ffd-4f73-86cb-32cd5f6fc147",
   "metadata": {},
   "outputs": [],
   "source": [
    "from OGRePy.abc import alpha,beta,lamda,mu,nu\n",
    "~(T.PartialD(mu) @ Schwarzschild(alpha,beta) - Schwarzschild.christoffel(lamda,mu,alpha)@Schwarzschild(lamda,beta)-Schwarzschild.christoffel(lamda,mu,beta)@Schwarzschild(lamda,alpha))"
   ]
  },
  {
   "cell_type": "code",
   "execution_count": null,
   "id": "9dcf3695-4213-4b7b-a3ae-d6e2d09d4399",
   "metadata": {},
   "outputs": [],
   "source": [
    "RestVelocity=T.Tensor(metric=Schwarzschild,coords=Spherical,indices=(-1,),components=[A**(0.5),0,0,0])"
   ]
  },
  {
   "cell_type": "code",
   "execution_count": null,
   "id": "232df079-03e1-4058-932d-09ea179e5e7d",
   "metadata": {},
   "outputs": [],
   "source": [
    "rho_r=T.func(\"rho\")(r)"
   ]
  },
  {
   "cell_type": "code",
   "execution_count": null,
   "id": "ef41ca1b-87f3-4ea8-a373-9d07f77d760d",
   "metadata": {},
   "outputs": [],
   "source": [
    "P_r=T.func(\"P\")(r)"
   ]
  },
  {
   "cell_type": "code",
   "execution_count": null,
   "id": "ef530a0e-33eb-4596-9135-e074307e8427",
   "metadata": {},
   "outputs": [],
   "source": [
    "PerfectFluidSchwarzschild=T.calc(formula=(rho_r+P_r)*RestVelocity(mu)@RestVelocity(nu)+P_r*Schwarzschild(mu,nu),symbol=\"T\")"
   ]
  },
  {
   "cell_type": "code",
   "execution_count": null,
   "id": "ce86bc00-e2c6-4bed-afa0-4a21def3fb15",
   "metadata": {},
   "outputs": [],
   "source": [
    "~(T.CovariantD(mu)@PerfectFluidSchwarzschild(mu,nu))"
   ]
  },
  {
   "cell_type": "code",
   "execution_count": null,
   "id": "29816c55-8a10-4571-b43d-539a0e166120",
   "metadata": {},
   "outputs": [],
   "source": [
    "t, r, theta, phi = sp.symbols('t r theta phi')\n",
    "A = sp.Function('A')\n",
    "B = sp.Function('B')\n",
    "M=sp.Function(\"M\")\n",
    "rho = sp.Function('rho')\n",
    "P = sp.Function('P')"
   ]
  },
  {
   "cell_type": "code",
   "execution_count": null,
   "id": "09054193-d48b-4cfb-9763-2899ebb6be4a",
   "metadata": {},
   "outputs": [],
   "source": [
    "Cons_eqn=sp.Eq((sp.diff(P(r),r)+P(r)*sp.diff(A(r),r)+rho(r)*sp.diff(A(r),r))/(2*A(r)),0)\n",
    "Cons_eqn"
   ]
  },
  {
   "cell_type": "code",
   "execution_count": null,
   "id": "c3a009cf-acfb-452b-9824-8bb87d4a1cc8",
   "metadata": {},
   "outputs": [],
   "source": [
    "Tov_equation=sp.Eq(sp.diff(P(r),r),-(rho(r)+P(r))*sp.diff(A(r),r)/(2*A(r)))\n",
    "Tov_equation"
   ]
  },
  {
   "cell_type": "code",
   "execution_count": null,
   "id": "47ec85e8-b040-48d8-9a10-e10c4d4ab661",
   "metadata": {},
   "outputs": [],
   "source": [
    "EFE_1=sp.Eq(1/(r**2 * A(r)) * (A(r)-A(r)*B(r) + r*sp.diff(A(r),r)),8*sp.pi*B(r)*P(r))\n",
    "EFE_1"
   ]
  },
  {
   "cell_type": "code",
   "execution_count": null,
   "id": "f76d7c8a-e7f0-4238-ad2a-83184642235a",
   "metadata": {},
   "outputs": [],
   "source": [
    "EFE_1=sp.simplify(EFE_1)\n",
    "EFE_1"
   ]
  },
  {
   "cell_type": "code",
   "execution_count": null,
   "id": "b8ec27f7-091a-4866-a4e5-fabc8d5207be",
   "metadata": {},
   "outputs": [],
   "source": [
    "Solution_1=sp.solve(EFE_1,sp.diff(A(r),r)/A(r))[0]\n",
    "Solution_1"
   ]
  },
  {
   "cell_type": "code",
   "execution_count": null,
   "id": "44846545-2f49-4bd5-ae18-aec439415056",
   "metadata": {},
   "outputs": [],
   "source": [
    "Solution_1=Solution_1.subs(B(r),(1-(2*M(r)/r))**(-1))\n",
    "Solution_1"
   ]
  },
  {
   "cell_type": "code",
   "execution_count": null,
   "id": "4c7d6fc3-3a40-4144-8a41-e189b40e1767",
   "metadata": {},
   "outputs": [],
   "source": [
    "A_prime_divide_A=sp.Eq(sp.diff(A(r),r)/A(r),Solution_1)\n",
    "A_prime_divide_A"
   ]
  },
  {
   "cell_type": "code",
   "execution_count": null,
   "id": "f4ebfdd6-e841-4df0-a1ce-ae503321a7b6",
   "metadata": {},
   "outputs": [],
   "source": [
    "Tov_eq_1=sp.Eq(sp.diff(P(r),r),Tov_equation.rhs.subs(sp.diff(A(r),r)/A(r),A_prime_divide_A.rhs))\n",
    "Tov_eq_1"
   ]
  },
  {
   "cell_type": "code",
   "execution_count": null,
   "id": "ef331b71-921c-4943-9e42-987b3ef081eb",
   "metadata": {},
   "outputs": [],
   "source": [
    "TOV_Equation_rhs=sp.simplify(Tov_eq_1.rhs)\n",
    "TOV_Equation_rhs"
   ]
  },
  {
   "cell_type": "code",
   "execution_count": null,
   "id": "b4c13aa9-9c92-4ec1-8eb3-340d87146c93",
   "metadata": {},
   "outputs": [],
   "source": [
    "TOV_Equation=sp.Eq(sp.diff(P(r),r),TOV_Equation_rhs)\n",
    "TOV_Equation"
   ]
  },
  {
   "cell_type": "code",
   "execution_count": null,
   "id": "dc5d738f-3e0e-4789-a06c-6771404c988e",
   "metadata": {},
   "outputs": [],
   "source": []
  },
  {
   "cell_type": "code",
   "execution_count": null,
   "id": "9315cce9-9c4b-4faa-910f-12ad1be04cf7",
   "metadata": {},
   "outputs": [],
   "source": []
  }
 ],
 "metadata": {
  "kernelspec": {
   "display_name": "Python 3 (ipykernel)",
   "language": "python",
   "name": "python3"
  },
  "language_info": {
   "codemirror_mode": {
    "name": "ipython",
    "version": 3
   },
   "file_extension": ".py",
   "mimetype": "text/x-python",
   "name": "python",
   "nbconvert_exporter": "python",
   "pygments_lexer": "ipython3",
   "version": "3.12.4"
  }
 },
 "nbformat": 4,
 "nbformat_minor": 5
}
