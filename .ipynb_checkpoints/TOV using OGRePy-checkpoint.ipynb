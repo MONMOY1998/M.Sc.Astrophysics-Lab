{
 "cells": [
  {
   "cell_type": "code",
   "execution_count": 4,
   "id": "e59f8d3c-f03c-465f-9bca-68109e6e4f91",
   "metadata": {},
   "outputs": [
    {
     "name": "stdout",
     "output_type": "stream",
     "text": [
      "Collecting OGRePy\n",
      "  Using cached OGRePy-1.2.0-py3-none-any.whl.metadata (133 kB)\n",
      "Requirement already satisfied: ipykernel>=6.9.2 in c:\\users\\user\\anaconda3\\lib\\site-packages (from OGRePy) (6.28.0)\n",
      "Requirement already satisfied: sympy>=1.12 in c:\\users\\user\\anaconda3\\lib\\site-packages (from OGRePy) (1.12)\n",
      "Requirement already satisfied: comm>=0.1.1 in c:\\users\\user\\anaconda3\\lib\\site-packages (from ipykernel>=6.9.2->OGRePy) (0.2.1)\n",
      "Requirement already satisfied: debugpy>=1.6.5 in c:\\users\\user\\anaconda3\\lib\\site-packages (from ipykernel>=6.9.2->OGRePy) (1.6.7)\n",
      "Requirement already satisfied: ipython>=7.23.1 in c:\\users\\user\\anaconda3\\lib\\site-packages (from ipykernel>=6.9.2->OGRePy) (8.25.0)\n",
      "Requirement already satisfied: jupyter-client>=6.1.12 in c:\\users\\user\\anaconda3\\lib\\site-packages (from ipykernel>=6.9.2->OGRePy) (8.6.0)\n",
      "Requirement already satisfied: jupyter-core!=5.0.*,>=4.12 in c:\\users\\user\\anaconda3\\lib\\site-packages (from ipykernel>=6.9.2->OGRePy) (5.7.2)\n",
      "Requirement already satisfied: matplotlib-inline>=0.1 in c:\\users\\user\\anaconda3\\lib\\site-packages (from ipykernel>=6.9.2->OGRePy) (0.1.6)\n",
      "Requirement already satisfied: nest-asyncio in c:\\users\\user\\anaconda3\\lib\\site-packages (from ipykernel>=6.9.2->OGRePy) (1.6.0)\n",
      "Requirement already satisfied: packaging in c:\\users\\user\\anaconda3\\lib\\site-packages (from ipykernel>=6.9.2->OGRePy) (23.2)\n",
      "Requirement already satisfied: psutil in c:\\users\\user\\anaconda3\\lib\\site-packages (from ipykernel>=6.9.2->OGRePy) (5.9.0)\n",
      "Requirement already satisfied: pyzmq>=24 in c:\\users\\user\\anaconda3\\lib\\site-packages (from ipykernel>=6.9.2->OGRePy) (25.1.2)\n",
      "Requirement already satisfied: tornado>=6.1 in c:\\users\\user\\anaconda3\\lib\\site-packages (from ipykernel>=6.9.2->OGRePy) (6.4.1)\n",
      "Requirement already satisfied: traitlets>=5.4.0 in c:\\users\\user\\anaconda3\\lib\\site-packages (from ipykernel>=6.9.2->OGRePy) (5.14.3)\n",
      "Requirement already satisfied: mpmath>=0.19 in c:\\users\\user\\anaconda3\\lib\\site-packages (from sympy>=1.12->OGRePy) (1.3.0)\n",
      "Requirement already satisfied: decorator in c:\\users\\user\\anaconda3\\lib\\site-packages (from ipython>=7.23.1->ipykernel>=6.9.2->OGRePy) (5.1.1)\n",
      "Requirement already satisfied: jedi>=0.16 in c:\\users\\user\\anaconda3\\lib\\site-packages (from ipython>=7.23.1->ipykernel>=6.9.2->OGRePy) (0.18.1)\n",
      "Requirement already satisfied: prompt-toolkit<3.1.0,>=3.0.41 in c:\\users\\user\\anaconda3\\lib\\site-packages (from ipython>=7.23.1->ipykernel>=6.9.2->OGRePy) (3.0.43)\n",
      "Requirement already satisfied: pygments>=2.4.0 in c:\\users\\user\\anaconda3\\lib\\site-packages (from ipython>=7.23.1->ipykernel>=6.9.2->OGRePy) (2.15.1)\n",
      "Requirement already satisfied: stack-data in c:\\users\\user\\anaconda3\\lib\\site-packages (from ipython>=7.23.1->ipykernel>=6.9.2->OGRePy) (0.2.0)\n",
      "Requirement already satisfied: colorama in c:\\users\\user\\anaconda3\\lib\\site-packages (from ipython>=7.23.1->ipykernel>=6.9.2->OGRePy) (0.4.6)\n",
      "Requirement already satisfied: python-dateutil>=2.8.2 in c:\\users\\user\\anaconda3\\lib\\site-packages (from jupyter-client>=6.1.12->ipykernel>=6.9.2->OGRePy) (2.9.0.post0)\n",
      "Requirement already satisfied: platformdirs>=2.5 in c:\\users\\user\\anaconda3\\lib\\site-packages (from jupyter-core!=5.0.*,>=4.12->ipykernel>=6.9.2->OGRePy) (3.10.0)\n",
      "Requirement already satisfied: pywin32>=300 in c:\\users\\user\\anaconda3\\lib\\site-packages (from jupyter-core!=5.0.*,>=4.12->ipykernel>=6.9.2->OGRePy) (305.1)\n",
      "Requirement already satisfied: parso<0.9.0,>=0.8.0 in c:\\users\\user\\anaconda3\\lib\\site-packages (from jedi>=0.16->ipython>=7.23.1->ipykernel>=6.9.2->OGRePy) (0.8.3)\n",
      "Requirement already satisfied: wcwidth in c:\\users\\user\\anaconda3\\lib\\site-packages (from prompt-toolkit<3.1.0,>=3.0.41->ipython>=7.23.1->ipykernel>=6.9.2->OGRePy) (0.2.5)\n",
      "Requirement already satisfied: six>=1.5 in c:\\users\\user\\anaconda3\\lib\\site-packages (from python-dateutil>=2.8.2->jupyter-client>=6.1.12->ipykernel>=6.9.2->OGRePy) (1.16.0)\n",
      "Requirement already satisfied: executing in c:\\users\\user\\anaconda3\\lib\\site-packages (from stack-data->ipython>=7.23.1->ipykernel>=6.9.2->OGRePy) (0.8.3)\n",
      "Requirement already satisfied: asttokens in c:\\users\\user\\anaconda3\\lib\\site-packages (from stack-data->ipython>=7.23.1->ipykernel>=6.9.2->OGRePy) (2.0.5)\n",
      "Requirement already satisfied: pure-eval in c:\\users\\user\\anaconda3\\lib\\site-packages (from stack-data->ipython>=7.23.1->ipykernel>=6.9.2->OGRePy) (0.2.2)\n",
      "Using cached OGRePy-1.2.0-py3-none-any.whl (745 kB)\n",
      "Installing collected packages: OGRePy\n",
      "Successfully installed OGRePy-1.2.0\n",
      "Note: you may need to restart the kernel to use updated packages.\n"
     ]
    }
   ],
   "source": [
    "pip install OGRePy"
   ]
  },
  {
   "cell_type": "code",
   "execution_count": 6,
   "id": "38e7c497-4aa1-4f7c-bf83-87eeca6b91dc",
   "metadata": {},
   "outputs": [
    {
     "data": {
      "text/markdown": [
       "**OGRePy: An <u>O</u>bject-Oriented <u>G</u>eneral <u>Re</u>lativity Package for <u>Py</u>thon\\\n",
       "By [Barak Shoshany](https://github.com/bshoshany) ([baraksh@gmail.com](mailto:baraksh@gmail.com)) ([baraksh.com](https://baraksh.com/))\\\n",
       "v1.2.0 (2024-09-15)\\\n",
       "GitHub repository: <https://github.com/bshoshany/OGRePy>\\\n",
       "Documentation: <a href=\"C:/Users/User/anaconda3/Lib/site-packages/OGRePy/docs/OGRePy_Documentation.ipynb\">.ipynb</a>, <a href=\"C:/Users/User/anaconda3/Lib/site-packages/OGRePy/docs/OGRePy_Documentation.pdf\">.pdf</a>, <a href=\"#\" onclick=\"window.open('file:///C:/Users/User/anaconda3/Lib/site-packages/OGRePy/docs/OGRePy_Documentation.html', '_blank')\">.html</a>**"
      ],
      "text/plain": [
       "<IPython.core.display.Markdown object>"
      ]
     },
     "metadata": {},
     "output_type": "display_data"
    }
   ],
   "source": [
    "import OGRePy as T"
   ]
  },
  {
   "cell_type": "code",
   "execution_count": 8,
   "id": "cb16a739-e656-484c-89f5-06f76db204e5",
   "metadata": {},
   "outputs": [],
   "source": [
    "import sympy as sp"
   ]
  },
  {
   "cell_type": "code",
   "execution_count": 10,
   "id": "66e7f8d6-4090-4abc-b895-307348e11c4d",
   "metadata": {},
   "outputs": [],
   "source": [
    "from OGRePy.abc import phi, theta,t,A,B\n",
    "r = T.sym(\"r\", nonnegative=True)\n",
    "Spherical = T.Coordinates(t, r, theta, phi)"
   ]
  },
  {
   "cell_type": "code",
   "execution_count": 12,
   "id": "64090c7d-7e69-4014-9a47-ba2874a993d9",
   "metadata": {},
   "outputs": [],
   "source": [
    "from IPython.core.interactiveshell import InteractiveShell\n",
    "InteractiveShell.ast_node_interactivity = \"last_expr_or_assign\""
   ]
  },
  {
   "cell_type": "code",
   "execution_count": 14,
   "id": "5a48f4dd-3a71-4338-8ca4-ac94689a5a38",
   "metadata": {},
   "outputs": [
    {
     "data": {
      "text/markdown": [
       "$$g{}_{\\mu}{}_{\\nu}\\Bigg|_{\\left(t, r, \\theta, \\phi\\right)} = \\left(\\begin{matrix}- A & 0 & 0 & 0\\\\0 & B & 0 & 0\\\\0 & 0 & r^{2} & 0\\\\0 & 0 & 0 & r^{2} \\sin^{2}{\\left(\\theta \\right)}\\end{matrix}\\right)$$"
      ],
      "text/plain": [
       "<OGRePy._core.Metric at 0x1d1d3d88260>"
      ]
     },
     "execution_count": 14,
     "metadata": {},
     "output_type": "execute_result"
    }
   ],
   "source": [
    "A_r = T.func(\"A\")(r)\n",
    "B_r = T.func(\"B\")(r)\n",
    "Schwarzschild=T.Metric(coords=Spherical,components=T.diag(-A_r,B_r,r**2,r**2 *T.s.sin(theta) ** 2))"
   ]
  },
  {
   "cell_type": "code",
   "execution_count": 16,
   "id": "48d07d2e-e3a3-4b31-93d9-94fe93d25e22",
   "metadata": {},
   "outputs": [
    {
     "data": {
      "text/latex": [
       "$\\displaystyle \\mathrm{d}\\phi^{2} r^{2} \\sin^{2}{\\left(\\theta \\right)} + \\mathrm{d}\\theta^{2} r^{2} + \\mathrm{d}r^{2} B{\\left(r \\right)} - \\mathrm{d}t^{2} A{\\left(r \\right)}$"
      ],
      "text/plain": [
       "\\mathrm{d}\\phi**2*r**2*sin(\\theta)**2 + \\mathrm{d}\\theta**2*r**2 + \\mathrm{d}r**2*B(r) - \\mathrm{d}t**2*A(r)"
      ]
     },
     "execution_count": 16,
     "metadata": {},
     "output_type": "execute_result"
    }
   ],
   "source": [
    "Schwarzschild.line_element()"
   ]
  },
  {
   "cell_type": "code",
   "execution_count": 18,
   "id": "2126a404-0378-48be-bd08-f54f65b96337",
   "metadata": {},
   "outputs": [
    {
     "data": {
      "text/markdown": [
       "$$\\begin{align*}\n",
       "    g{}_{t}{}_{t} &= - A \\\\\n",
       "    g{}_{r}{}_{r} &= B \\\\\n",
       "    g{}_{\\theta}{}_{\\theta} &= r^{2} \\\\\n",
       "    g{}_{\\phi}{}_{\\phi} &= r^{2} \\sin^{2}{\\left(\\theta \\right)} \n",
       "\\end{align*}$$"
      ],
      "text/plain": [
       "<IPython.core.display.Markdown object>"
      ]
     },
     "metadata": {},
     "output_type": "display_data"
    }
   ],
   "source": [
    "~Schwarzschild"
   ]
  },
  {
   "cell_type": "code",
   "execution_count": 20,
   "id": "6f11eb6a-f7c1-4a80-ae69-359a209a2779",
   "metadata": {},
   "outputs": [
    {
     "data": {
      "text/markdown": [
       "$$\\begin{align*}\n",
       "    \\Gamma{}^{t}{}_{t}{}_{r} = \\Gamma{}^{t}{}_{r}{}_{t} &= \\frac{\\partial_{r} A}{2 A} \\\\\n",
       "    \\Gamma{}^{r}{}_{t}{}_{t} &= \\frac{\\partial_{r} A}{2 B} \\\\\n",
       "    \\Gamma{}^{r}{}_{r}{}_{r} &= \\frac{\\partial_{r} B}{2 B} \\\\\n",
       "    \\Gamma{}^{r}{}_{\\theta}{}_{\\theta} &= - \\frac{r}{B} \\\\\n",
       "    \\Gamma{}^{r}{}_{\\phi}{}_{\\phi} &= - \\frac{r \\sin^{2}{\\left(\\theta \\right)}}{B} \\\\\n",
       "    \\Gamma{}^{\\theta}{}_{r}{}_{\\theta} = \\Gamma{}^{\\theta}{}_{\\theta}{}_{r} = \\Gamma{}^{\\phi}{}_{r}{}_{\\phi} = \\Gamma{}^{\\phi}{}_{\\phi}{}_{r} &= \\frac{1}{r} \\\\\n",
       "    \\Gamma{}^{\\theta}{}_{\\phi}{}_{\\phi} &= - \\frac{\\sin{\\left(2 \\theta \\right)}}{2} \\\\\n",
       "    \\Gamma{}^{\\phi}{}_{\\theta}{}_{\\phi} = \\Gamma{}^{\\phi}{}_{\\phi}{}_{\\theta} &= \\frac{1}{\\tan{\\left(\\theta \\right)}} \n",
       "\\end{align*}$$"
      ],
      "text/plain": [
       "<IPython.core.display.Markdown object>"
      ]
     },
     "metadata": {},
     "output_type": "display_data"
    }
   ],
   "source": [
    "~Schwarzschild.christoffel()"
   ]
  },
  {
   "cell_type": "code",
   "execution_count": 22,
   "id": "4c56950d-ef7b-4865-9187-fc026fb8c94b",
   "metadata": {},
   "outputs": [
    {
     "data": {
      "text/markdown": [
       "$$\\begin{align*}\n",
       "    R{}_{t}{}_{t} &= \\frac{\\partial_{r} A}{B r} + \\frac{\\frac{\\mathrm{d}}{\\mathrm{d} r} \\partial_{r} A}{2 B} - \\frac{\\partial_{r} A \\partial_{r} B}{4 B^{2}} - \\frac{\\partial_{r} A^{2}}{4 A B} \\\\\n",
       "    R{}_{r}{}_{r} &= \\frac{\\partial_{r} B}{B r} - \\frac{\\frac{\\mathrm{d}}{\\mathrm{d} r} \\partial_{r} A}{2 A} + \\frac{\\partial_{r} A \\partial_{r} B}{4 A B} + \\frac{\\partial_{r} A^{2}}{4 A^{2}} \\\\\n",
       "    R{}_{\\theta}{}_{\\theta} &= 1 - \\frac{1}{B} + \\frac{\\partial_{r} B r}{2 B^{2}} - \\frac{\\partial_{r} A r}{2 A B} \\\\\n",
       "    R{}_{\\phi}{}_{\\phi} &= \\frac{\\left(2 A B \\left(B - 1\\right) + A \\partial_{r} B r - B \\partial_{r} A r\\right) \\sin^{2}{\\left(\\theta \\right)}}{2 A B^{2}} \n",
       "\\end{align*}$$"
      ],
      "text/plain": [
       "<IPython.core.display.Markdown object>"
      ]
     },
     "metadata": {},
     "output_type": "display_data"
    }
   ],
   "source": [
    "~Schwarzschild.ricci_tensor()"
   ]
  },
  {
   "cell_type": "code",
   "execution_count": 23,
   "id": "c26cc96d-b381-4ccd-b0dd-1ed1978b11c0",
   "metadata": {},
   "outputs": [
    {
     "data": {
      "text/markdown": [
       "$$\\begin{align*}\n",
       "    R &= \\frac{2}{r^{2}} - \\frac{2}{B r^{2}} + \\frac{2 \\partial_{r} B}{B^{2} r} - \\frac{2 \\partial_{r} A}{A B r} - \\frac{\\frac{\\mathrm{d}}{\\mathrm{d} r} \\partial_{r} A}{A B} + \\frac{\\partial_{r} A \\partial_{r} B}{2 A B^{2}} + \\frac{\\partial_{r} A^{2}}{2 A^{2} B} \n",
       "\\end{align*}$$"
      ],
      "text/plain": [
       "<IPython.core.display.Markdown object>"
      ]
     },
     "metadata": {},
     "output_type": "display_data"
    }
   ],
   "source": [
    "~Schwarzschild.ricci_scalar()"
   ]
  },
  {
   "cell_type": "code",
   "execution_count": 26,
   "id": "a3e8b7fe-fe27-4672-8680-25a5256dcbc9",
   "metadata": {},
   "outputs": [
    {
     "data": {
      "text/markdown": [
       "$$\\begin{align*}\n",
       "    G{}_{t}{}_{t} &= \\frac{A \\left(B^{2} - B + \\partial_{r} B r\\right)}{B^{2} r^{2}} \\\\\n",
       "    G{}_{r}{}_{r} &= \\frac{A \\left(1 - B\\right) + \\partial_{r} A r}{A r^{2}} \\\\\n",
       "    G{}_{\\theta}{}_{\\theta} &= \\frac{r \\left(- 2 A^{2} \\partial_{r} B + 2 A B \\left(\\partial_{r} A + r \\frac{\\mathrm{d}}{\\mathrm{d} r} \\partial_{r} A\\right) - A \\partial_{r} A \\partial_{r} B r - B \\partial_{r} A^{2} r\\right)}{4 A^{2} B^{2}} \\\\\n",
       "    G{}_{\\phi}{}_{\\phi} &= \\frac{r \\left(- 2 A^{2} \\partial_{r} B + 2 A B \\partial_{r} A + 2 A B r \\frac{\\mathrm{d}}{\\mathrm{d} r} \\partial_{r} A - A \\partial_{r} A \\partial_{r} B r - B \\partial_{r} A^{2} r\\right) \\sin^{2}{\\left(\\theta \\right)}}{4 A^{2} B^{2}} \n",
       "\\end{align*}$$"
      ],
      "text/plain": [
       "<IPython.core.display.Markdown object>"
      ]
     },
     "metadata": {},
     "output_type": "display_data"
    }
   ],
   "source": [
    "~Schwarzschild.einstein()"
   ]
  },
  {
   "cell_type": "code",
   "execution_count": 28,
   "id": "37d73ada",
   "metadata": {},
   "outputs": [
    {
     "data": {
      "text/markdown": [
       "$$G{}_{\\mu}{}_{\\nu}\\Bigg|_{\\left(t, r, \\theta, \\phi\\right)} = \\left(\\begin{matrix}\\frac{A \\left(B^{2} - B + \\partial_{r} B r\\right)}{B^{2} r^{2}} & 0 & 0 & 0\\\\0 & \\frac{A \\left(1 - B\\right) + \\partial_{r} A r}{A r^{2}} & 0 & 0\\\\0 & 0 & \\frac{r \\left(- 2 A^{2} \\partial_{r} B + 2 A B \\left(\\partial_{r} A + r \\frac{\\mathrm{d}}{\\mathrm{d} r} \\partial_{r} A\\right) - A \\partial_{r} A \\partial_{r} B r - B \\partial_{r} A^{2} r\\right)}{4 A^{2} B^{2}} & 0\\\\0 & 0 & 0 & \\frac{r \\left(- 2 A^{2} \\partial_{r} B + 2 A B \\partial_{r} A + 2 A B r \\frac{\\mathrm{d}}{\\mathrm{d} r} \\partial_{r} A - A \\partial_{r} A \\partial_{r} B r - B \\partial_{r} A^{2} r\\right) \\sin^{2}{\\left(\\theta \\right)}}{4 A^{2} B^{2}}\\end{matrix}\\right)$$"
      ],
      "text/plain": [
       "<OGRePy._core.Einstein at 0x1d1d4195bb0>"
      ]
     },
     "execution_count": 28,
     "metadata": {},
     "output_type": "execute_result"
    }
   ],
   "source": [
    "Schwarzschild.einstein()"
   ]
  },
  {
   "cell_type": "code",
   "execution_count": 30,
   "id": "3c167962-3ffd-4f73-86cb-32cd5f6fc147",
   "metadata": {},
   "outputs": [
    {
     "data": {
      "text/markdown": [
       "$$\\text{No non-zero elements.}$$"
      ],
      "text/plain": [
       "<IPython.core.display.Markdown object>"
      ]
     },
     "metadata": {},
     "output_type": "display_data"
    }
   ],
   "source": [
    "from OGRePy.abc import alpha,beta,lamda,mu,nu\n",
    "~(T.PartialD(mu) @ Schwarzschild(alpha,beta) - Schwarzschild.christoffel(lamda,mu,alpha)@Schwarzschild(lamda,beta)-Schwarzschild.christoffel(lamda,mu,beta)@Schwarzschild(lamda,alpha))"
   ]
  },
  {
   "cell_type": "code",
   "execution_count": 34,
   "id": "9dcf3695-4213-4b7b-a3ae-d6e2d09d4399",
   "metadata": {},
   "outputs": [
    {
     "data": {
      "text/markdown": [
       "$$\\square{}_{\\mu}\\Bigg|_{\\left(t, r, \\theta, \\phi\\right)} = \\left(\\begin{matrix}A^{0.5}\\\\0\\\\0\\\\0\\end{matrix}\\right)$$"
      ],
      "text/plain": [
       "<OGRePy._core.Tensor at 0x1d1d45111c0>"
      ]
     },
     "execution_count": 34,
     "metadata": {},
     "output_type": "execute_result"
    }
   ],
   "source": [
    "RestVelocity=T.Tensor(metric=Schwarzschild,coords=Spherical,indices=(-1,),components=[A**(0.5),0,0,0])"
   ]
  },
  {
   "cell_type": "code",
   "execution_count": 36,
   "id": "232df079-03e1-4058-932d-09ea179e5e7d",
   "metadata": {},
   "outputs": [
    {
     "data": {
      "text/latex": [
       "$\\displaystyle \\rho{\\left(r \\right)}$"
      ],
      "text/plain": [
       "\\rho(r)"
      ]
     },
     "execution_count": 36,
     "metadata": {},
     "output_type": "execute_result"
    }
   ],
   "source": [
    "rho_r=T.func(\"rho\")(r)"
   ]
  },
  {
   "cell_type": "code",
   "execution_count": 38,
   "id": "ef41ca1b-87f3-4ea8-a373-9d07f77d760d",
   "metadata": {},
   "outputs": [
    {
     "data": {
      "text/latex": [
       "$\\displaystyle P{\\left(r \\right)}$"
      ],
      "text/plain": [
       "P(r)"
      ]
     },
     "execution_count": 38,
     "metadata": {},
     "output_type": "execute_result"
    }
   ],
   "source": [
    "P_r=T.func(\"P\")(r)"
   ]
  },
  {
   "cell_type": "code",
   "execution_count": 42,
   "id": "ef530a0e-33eb-4596-9135-e074307e8427",
   "metadata": {},
   "outputs": [
    {
     "data": {
      "text/markdown": [
       "$$T{}_{\\mu}{}_{\\nu}\\Bigg|_{\\left(t, r, \\theta, \\phi\\right)} = \\left(\\begin{matrix}A^{1.0} \\left(P + \\rho{\\left(r \\right)}\\right) - A P & 0 & 0 & 0\\\\0 & B P & 0 & 0\\\\0 & 0 & P r^{2} & 0\\\\0 & 0 & 0 & P r^{2} \\sin^{2}{\\left(\\theta \\right)}\\end{matrix}\\right)$$"
      ],
      "text/plain": [
       "<OGRePy._core.Tensor at 0x1d1d44d8b80>"
      ]
     },
     "execution_count": 42,
     "metadata": {},
     "output_type": "execute_result"
    }
   ],
   "source": [
    "PerfectFluidSchwarzschild=T.calc(formula=(rho_r+P_r)*RestVelocity(mu)@RestVelocity(nu)+P_r*Schwarzschild(mu,nu),symbol=\"T\")"
   ]
  },
  {
   "cell_type": "code",
   "execution_count": 44,
   "id": "ce86bc00-e2c6-4bed-afa0-4a21def3fb15",
   "metadata": {},
   "outputs": [
    {
     "data": {
      "text/markdown": [
       "$$\\begin{align*}\n",
       "    \\nabla{}_{\\mu} T{}^{\\mu}{}_{r} &= \\frac{A^{2} \\partial_{r} P + \\frac{A^{1.0} \\partial_{r} A \\left(P + \\rho{\\left(r \\right)}\\right)}{2}}{A^{2}} \n",
       "\\end{align*}$$"
      ],
      "text/plain": [
       "<IPython.core.display.Markdown object>"
      ]
     },
     "metadata": {},
     "output_type": "display_data"
    }
   ],
   "source": [
    "~(T.CovariantD(mu)@PerfectFluidSchwarzschild(mu,nu))"
   ]
  },
  {
   "cell_type": "code",
   "execution_count": 46,
   "id": "29816c55-8a10-4571-b43d-539a0e166120",
   "metadata": {},
   "outputs": [
    {
     "data": {
      "text/plain": [
       "P"
      ]
     },
     "execution_count": 46,
     "metadata": {},
     "output_type": "execute_result"
    }
   ],
   "source": [
    "t, r, theta, phi = sp.symbols('t r theta phi')\n",
    "A = sp.Function('A')\n",
    "B = sp.Function('B')\n",
    "M=sp.Function(\"M\")\n",
    "rho = sp.Function('rho')\n",
    "P = sp.Function('P')"
   ]
  },
  {
   "cell_type": "code",
   "execution_count": 48,
   "id": "09054193-d48b-4cfb-9763-2899ebb6be4a",
   "metadata": {},
   "outputs": [
    {
     "data": {
      "text/latex": [
       "$\\displaystyle \\frac{P{\\left(r \\right)} \\frac{d}{d r} A{\\left(r \\right)} + \\rho{\\left(r \\right)} \\frac{d}{d r} A{\\left(r \\right)} + \\frac{d}{d r} P{\\left(r \\right)}}{2 A{\\left(r \\right)}} = 0$"
      ],
      "text/plain": [
       "Eq((P(r)*Derivative(A(r), r) + rho(r)*Derivative(A(r), r) + Derivative(P(r), r))/(2*A(r)), 0)"
      ]
     },
     "execution_count": 48,
     "metadata": {},
     "output_type": "execute_result"
    }
   ],
   "source": [
    "Cons_eqn=sp.Eq((sp.diff(P(r),r)+P(r)*sp.diff(A(r),r)+rho(r)*sp.diff(A(r),r))/(2*A(r)),0)\n",
    "Cons_eqn"
   ]
  },
  {
   "cell_type": "code",
   "execution_count": 50,
   "id": "c3a009cf-acfb-452b-9824-8bb87d4a1cc8",
   "metadata": {},
   "outputs": [
    {
     "data": {
      "text/latex": [
       "$\\displaystyle \\frac{d}{d r} P{\\left(r \\right)} = \\frac{\\left(- P{\\left(r \\right)} - \\rho{\\left(r \\right)}\\right) \\frac{d}{d r} A{\\left(r \\right)}}{2 A{\\left(r \\right)}}$"
      ],
      "text/plain": [
       "Eq(Derivative(P(r), r), (-P(r) - rho(r))*Derivative(A(r), r)/(2*A(r)))"
      ]
     },
     "execution_count": 50,
     "metadata": {},
     "output_type": "execute_result"
    }
   ],
   "source": [
    "Tov_equation=sp.Eq(sp.diff(P(r),r),-(rho(r)+P(r))*sp.diff(A(r),r)/(2*A(r)))\n",
    "Tov_equation"
   ]
  },
  {
   "cell_type": "code",
   "execution_count": 52,
   "id": "47ec85e8-b040-48d8-9a10-e10c4d4ab661",
   "metadata": {},
   "outputs": [
    {
     "data": {
      "text/latex": [
       "$\\displaystyle \\frac{r \\frac{d}{d r} A{\\left(r \\right)} - A{\\left(r \\right)} B{\\left(r \\right)} + A{\\left(r \\right)}}{r^{2} A{\\left(r \\right)}} = 8 \\pi B{\\left(r \\right)} P{\\left(r \\right)}$"
      ],
      "text/plain": [
       "Eq((r*Derivative(A(r), r) - A(r)*B(r) + A(r))/(r**2*A(r)), 8*pi*B(r)*P(r))"
      ]
     },
     "execution_count": 52,
     "metadata": {},
     "output_type": "execute_result"
    }
   ],
   "source": [
    "EFE_1=sp.Eq(1/(r**2 * A(r)) * (A(r)-A(r)*B(r) + r*sp.diff(A(r),r)),8*sp.pi*B(r)*P(r))\n",
    "EFE_1"
   ]
  },
  {
   "cell_type": "code",
   "execution_count": 54,
   "id": "f76d7c8a-e7f0-4238-ad2a-83184642235a",
   "metadata": {},
   "outputs": [
    {
     "data": {
      "text/latex": [
       "$\\displaystyle 8 \\pi B{\\left(r \\right)} P{\\left(r \\right)} = \\frac{\\frac{d}{d r} A{\\left(r \\right)}}{r A{\\left(r \\right)}} - \\frac{B{\\left(r \\right)}}{r^{2}} + \\frac{1}{r^{2}}$"
      ],
      "text/plain": [
       "Eq(8*pi*B(r)*P(r), Derivative(A(r), r)/(r*A(r)) - B(r)/r**2 + r**(-2))"
      ]
     },
     "execution_count": 54,
     "metadata": {},
     "output_type": "execute_result"
    }
   ],
   "source": [
    "EFE_1=sp.simplify(EFE_1)\n",
    "EFE_1"
   ]
  },
  {
   "cell_type": "code",
   "execution_count": 56,
   "id": "b8ec27f7-091a-4866-a4e5-fabc8d5207be",
   "metadata": {},
   "outputs": [
    {
     "data": {
      "text/latex": [
       "$\\displaystyle \\frac{8 \\pi r^{2} B{\\left(r \\right)} P{\\left(r \\right)} + B{\\left(r \\right)} - 1}{r}$"
      ],
      "text/plain": [
       "(8*pi*r**2*B(r)*P(r) + B(r) - 1)/r"
      ]
     },
     "execution_count": 56,
     "metadata": {},
     "output_type": "execute_result"
    }
   ],
   "source": [
    "Solution_1=sp.solve(EFE_1,sp.diff(A(r),r)/A(r))[0]\n",
    "Solution_1"
   ]
  },
  {
   "cell_type": "code",
   "execution_count": 62,
   "id": "44846545-2f49-4bd5-ae18-aec439415056",
   "metadata": {},
   "outputs": [
    {
     "data": {
      "text/latex": [
       "$\\displaystyle \\frac{\\frac{8 \\pi r^{2} P{\\left(r \\right)}}{1 - \\frac{2 M{\\left(r \\right)}}{r}} - 1 + \\frac{1}{1 - \\frac{2 M{\\left(r \\right)}}{r}}}{r}$"
      ],
      "text/plain": [
       "(8*pi*r**2*P(r)/(1 - 2*M(r)/r) - 1 + 1/(1 - 2*M(r)/r))/r"
      ]
     },
     "execution_count": 62,
     "metadata": {},
     "output_type": "execute_result"
    }
   ],
   "source": [
    "Solution_1=Solution_1.subs(B(r),(1-(2*M(r)/r))**(-1))\n",
    "Solution_1"
   ]
  },
  {
   "cell_type": "code",
   "execution_count": 64,
   "id": "4c7d6fc3-3a40-4144-8a41-e189b40e1767",
   "metadata": {},
   "outputs": [
    {
     "data": {
      "text/latex": [
       "$\\displaystyle \\frac{\\frac{d}{d r} A{\\left(r \\right)}}{A{\\left(r \\right)}} = \\frac{\\frac{8 \\pi r^{2} P{\\left(r \\right)}}{1 - \\frac{2 M{\\left(r \\right)}}{r}} - 1 + \\frac{1}{1 - \\frac{2 M{\\left(r \\right)}}{r}}}{r}$"
      ],
      "text/plain": [
       "Eq(Derivative(A(r), r)/A(r), (8*pi*r**2*P(r)/(1 - 2*M(r)/r) - 1 + 1/(1 - 2*M(r)/r))/r)"
      ]
     },
     "execution_count": 64,
     "metadata": {},
     "output_type": "execute_result"
    }
   ],
   "source": [
    "A_prime_divide_A=sp.Eq(sp.diff(A(r),r)/A(r),Solution_1)\n",
    "A_prime_divide_A"
   ]
  },
  {
   "cell_type": "code",
   "execution_count": 66,
   "id": "f4ebfdd6-e841-4df0-a1ce-ae503321a7b6",
   "metadata": {},
   "outputs": [
    {
     "data": {
      "text/latex": [
       "$\\displaystyle \\frac{d}{d r} P{\\left(r \\right)} = \\frac{\\left(- P{\\left(r \\right)} - \\rho{\\left(r \\right)}\\right) \\left(\\frac{8 \\pi r^{2} P{\\left(r \\right)}}{1 - \\frac{2 M{\\left(r \\right)}}{r}} - 1 + \\frac{1}{1 - \\frac{2 M{\\left(r \\right)}}{r}}\\right)}{2 r}$"
      ],
      "text/plain": [
       "Eq(Derivative(P(r), r), (-P(r) - rho(r))*(8*pi*r**2*P(r)/(1 - 2*M(r)/r) - 1 + 1/(1 - 2*M(r)/r))/(2*r))"
      ]
     },
     "execution_count": 66,
     "metadata": {},
     "output_type": "execute_result"
    }
   ],
   "source": [
    "Tov_eq_1=sp.Eq(sp.diff(P(r),r),Tov_equation.rhs.subs(sp.diff(A(r),r)/A(r),A_prime_divide_A.rhs))\n",
    "Tov_eq_1"
   ]
  },
  {
   "cell_type": "code",
   "execution_count": 68,
   "id": "ef331b71-921c-4943-9e42-987b3ef081eb",
   "metadata": {},
   "outputs": [
    {
     "data": {
      "text/latex": [
       "$\\displaystyle - \\frac{\\left(4 \\pi r^{3} P{\\left(r \\right)} + M{\\left(r \\right)}\\right) \\left(P{\\left(r \\right)} + \\rho{\\left(r \\right)}\\right)}{r \\left(r - 2 M{\\left(r \\right)}\\right)}$"
      ],
      "text/plain": [
       "-(4*pi*r**3*P(r) + M(r))*(P(r) + rho(r))/(r*(r - 2*M(r)))"
      ]
     },
     "execution_count": 68,
     "metadata": {},
     "output_type": "execute_result"
    }
   ],
   "source": [
    "TOV_Equation_rhs=sp.simplify(Tov_eq_1.rhs)\n",
    "TOV_Equation_rhs"
   ]
  },
  {
   "cell_type": "code",
   "execution_count": 70,
   "id": "b4c13aa9-9c92-4ec1-8eb3-340d87146c93",
   "metadata": {},
   "outputs": [
    {
     "data": {
      "text/latex": [
       "$\\displaystyle \\frac{d}{d r} P{\\left(r \\right)} = - \\frac{\\left(4 \\pi r^{3} P{\\left(r \\right)} + M{\\left(r \\right)}\\right) \\left(P{\\left(r \\right)} + \\rho{\\left(r \\right)}\\right)}{r \\left(r - 2 M{\\left(r \\right)}\\right)}$"
      ],
      "text/plain": [
       "Eq(Derivative(P(r), r), -(4*pi*r**3*P(r) + M(r))*(P(r) + rho(r))/(r*(r - 2*M(r))))"
      ]
     },
     "execution_count": 70,
     "metadata": {},
     "output_type": "execute_result"
    }
   ],
   "source": [
    "TOV_Equation=sp.Eq(sp.diff(P(r),r),TOV_Equation_rhs)\n",
    "TOV_Equation"
   ]
  },
  {
   "cell_type": "code",
   "execution_count": null,
   "id": "dc5d738f-3e0e-4789-a06c-6771404c988e",
   "metadata": {},
   "outputs": [],
   "source": []
  },
  {
   "cell_type": "code",
   "execution_count": null,
   "id": "9315cce9-9c4b-4faa-910f-12ad1be04cf7",
   "metadata": {},
   "outputs": [],
   "source": []
  }
 ],
 "metadata": {
  "kernelspec": {
   "display_name": "Python 3 (ipykernel)",
   "language": "python",
   "name": "python3"
  },
  "language_info": {
   "codemirror_mode": {
    "name": "ipython",
    "version": 3
   },
   "file_extension": ".py",
   "mimetype": "text/x-python",
   "name": "python",
   "nbconvert_exporter": "python",
   "pygments_lexer": "ipython3",
   "version": "3.12.4"
  }
 },
 "nbformat": 4,
 "nbformat_minor": 5
}
