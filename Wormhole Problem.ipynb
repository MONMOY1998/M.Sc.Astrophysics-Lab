{
 "cells": [
  {
   "cell_type": "code",
   "execution_count": 1,
   "id": "a594ded3-dd4f-4239-8e99-629904ab9f65",
   "metadata": {},
   "outputs": [
    {
     "data": {
      "text/markdown": [
       "**OGRePy: An <u>O</u>bject-Oriented <u>G</u>eneral <u>Re</u>lativity Package for <u>Py</u>thon\\\n",
       "By [Barak Shoshany](https://github.com/bshoshany) ([baraksh@gmail.com](mailto:baraksh@gmail.com)) ([baraksh.com](https://baraksh.com/))\\\n",
       "v1.2.0 (2024-09-15)\\\n",
       "GitHub repository: <https://github.com/bshoshany/OGRePy>\\\n",
       "Documentation: <a href=\"C:/Users/User/anaconda3/Lib/site-packages/OGRePy/docs/OGRePy_Documentation.ipynb\">.ipynb</a>, <a href=\"C:/Users/User/anaconda3/Lib/site-packages/OGRePy/docs/OGRePy_Documentation.pdf\">.pdf</a>, <a href=\"#\" onclick=\"window.open('file:///C:/Users/User/anaconda3/Lib/site-packages/OGRePy/docs/OGRePy_Documentation.html', '_blank')\">.html</a>**"
      ],
      "text/plain": [
       "<IPython.core.display.Markdown object>"
      ]
     },
     "metadata": {},
     "output_type": "display_data"
    }
   ],
   "source": [
    "import OGRePy as T\n",
    "import sympy as sp\n",
    "import matplotlib.pyplot as plt\n",
    "import sympy as sp\n",
    "import numpy as np\n",
    "import math"
   ]
  },
  {
   "cell_type": "code",
   "execution_count": 2,
   "id": "5d149aaa-165d-443e-a117-a9fda169f9ba",
   "metadata": {},
   "outputs": [],
   "source": [
    "from OGRePy.abc import t,phi,theta,rho,P,K,alpha,beta,lamda,mu,nu\n",
    "r = T.sym(\"r\", nonnegative=True)\n",
    "Spherical = T.Coordinates(t, r, theta, phi)"
   ]
  },
  {
   "cell_type": "code",
   "execution_count": 5,
   "id": "783a5020-bf15-4b07-b22f-340eee6a9ca9",
   "metadata": {},
   "outputs": [],
   "source": [
    "from IPython.core.interactiveshell import InteractiveShell\n",
    "InteractiveShell.ast_node_interactivity = \"last_expr_or_assign\""
   ]
  },
  {
   "cell_type": "code",
   "execution_count": 7,
   "id": "94d99a2a-f9fd-4144-9297-531ec5ef7e4a",
   "metadata": {},
   "outputs": [
    {
     "data": {
      "text/latex": [
       "$\\displaystyle ν{\\left(r \\right)}$"
      ],
      "text/plain": [
       "ν(r)"
      ]
     },
     "execution_count": 7,
     "metadata": {},
     "output_type": "execute_result"
    }
   ],
   "source": [
    "ν_r=T.func(\"ν\")(r)"
   ]
  },
  {
   "cell_type": "code",
   "execution_count": 9,
   "id": "2866b968-f954-4226-9b02-107e7c16183f",
   "metadata": {},
   "outputs": [
    {
     "data": {
      "text/latex": [
       "$\\displaystyle b{\\left(r \\right)}$"
      ],
      "text/plain": [
       "b(r)"
      ]
     },
     "execution_count": 9,
     "metadata": {},
     "output_type": "execute_result"
    }
   ],
   "source": [
    "b_r=T.func(\"b\")(r)"
   ]
  },
  {
   "cell_type": "code",
   "execution_count": 11,
   "id": "62786fad-0d2f-4917-9a44-51c115e802f9",
   "metadata": {},
   "outputs": [
    {
     "data": {
      "text/markdown": [
       "$$g{}_{\\mu}{}_{\\nu}\\Bigg|_{\\left(t, r, \\theta, \\phi\\right)} = \\left(\\begin{matrix}- e^{ν} & 0 & 0 & 0\\\\0 & \\frac{1}{- \\frac{b}{r} + 1} & 0 & 0\\\\0 & 0 & r^{2} & 0\\\\0 & 0 & 0 & r^{2} \\sin^{2}{\\left(\\theta \\right)}\\end{matrix}\\right)$$"
      ],
      "text/plain": [
       "<OGRePy._core.Metric at 0x1feb4552570>"
      ]
     },
     "execution_count": 11,
     "metadata": {},
     "output_type": "execute_result"
    }
   ],
   "source": [
    "Wormhole=T.Metric(coords=Spherical,components=T.diag(-sp.exp(ν_r),1/(1-(b_r/r)),r**2,r**2 *T.s.sin(theta) ** 2))"
   ]
  },
  {
   "cell_type": "code",
   "execution_count": 13,
   "id": "6518af06-2480-425f-8d78-4621b8c369d2",
   "metadata": {},
   "outputs": [
    {
     "data": {
      "text/markdown": [
       "$$g{}^{\\mu}{}^{\\nu}\\Bigg|_{\\left(t, r, \\theta, \\phi\\right)} = \\left(\\begin{matrix}- e^{- ν} & 0 & 0 & 0\\\\0 & - \\frac{b}{r} + 1 & 0 & 0\\\\0 & 0 & \\frac{1}{r^{2}} & 0\\\\0 & 0 & 0 & \\frac{1}{r^{2} \\sin^{2}{\\left(\\theta \\right)}}\\end{matrix}\\right)$$"
      ],
      "text/plain": [
       "<IPython.core.display.Markdown object>"
      ]
     },
     "metadata": {},
     "output_type": "display_data"
    }
   ],
   "source": [
    "Wormhole.show(indices=(1,1))"
   ]
  },
  {
   "cell_type": "code",
   "execution_count": 15,
   "id": "28bb6ed6-f754-426b-9a1c-df9b2d6f9fee",
   "metadata": {},
   "outputs": [
    {
     "data": {
      "text/markdown": [
       "$$\\begin{align*}\n",
       "    g{}_{t}{}_{t} &= - e^{ν} \\\\\n",
       "    g{}_{r}{}_{r} &= \\frac{1}{- \\frac{b}{r} + 1} \\\\\n",
       "    g{}_{\\theta}{}_{\\theta} &= r^{2} \\\\\n",
       "    g{}_{\\phi}{}_{\\phi} &= r^{2} \\sin^{2}{\\left(\\theta \\right)} \n",
       "\\end{align*}$$"
      ],
      "text/plain": [
       "<IPython.core.display.Markdown object>"
      ]
     },
     "metadata": {},
     "output_type": "display_data"
    }
   ],
   "source": [
    "~Wormhole"
   ]
  },
  {
   "cell_type": "code",
   "execution_count": 17,
   "id": "736926a2-21b7-4bfb-98c9-1570b81faabe",
   "metadata": {},
   "outputs": [
    {
     "data": {
      "text/latex": [
       "$\\displaystyle \\mathrm{d}\\phi^{2} r^{2} \\sin^{2}{\\left(\\theta \\right)} + \\mathrm{d}\\theta^{2} r^{2} + \\frac{\\mathrm{d}r^{2}}{1 - \\frac{b{\\left(r \\right)}}{r}} - \\mathrm{d}t^{2} e^{ν{\\left(r \\right)}}$"
      ],
      "text/plain": [
       "\\mathrm{d}\\phi**2*r**2*sin(\\theta)**2 + \\mathrm{d}\\theta**2*r**2 + \\mathrm{d}r**2/(1 - b(r)/r) - \\mathrm{d}t**2*exp(ν(r))"
      ]
     },
     "execution_count": 17,
     "metadata": {},
     "output_type": "execute_result"
    }
   ],
   "source": [
    "Wormhole.line_element()"
   ]
  },
  {
   "cell_type": "code",
   "execution_count": 19,
   "id": "c51b9e7f-6cc5-4d24-9fef-1b5ac5b6f863",
   "metadata": {},
   "outputs": [
    {
     "data": {
      "text/markdown": [
       "$$\\begin{align*}\n",
       "    \\Gamma{}^{t}{}_{t}{}_{r} = \\Gamma{}^{t}{}_{r}{}_{t} &= \\frac{\\partial_{r} ν}{2} \\\\\n",
       "    \\Gamma{}^{r}{}_{t}{}_{t} &= \\frac{\\partial_{r} ν \\left(- b + r\\right) e^{ν}}{2 r} \\\\\n",
       "    \\Gamma{}^{r}{}_{r}{}_{r} &= \\frac{\\partial_{r} b r - b}{2 r \\left(- b + r\\right)} \\\\\n",
       "    \\Gamma{}^{r}{}_{\\theta}{}_{\\theta} &= b - r \\\\\n",
       "    \\Gamma{}^{r}{}_{\\phi}{}_{\\phi} &= \\left(b - r\\right) \\sin^{2}{\\left(\\theta \\right)} \\\\\n",
       "    \\Gamma{}^{\\theta}{}_{r}{}_{\\theta} = \\Gamma{}^{\\theta}{}_{\\theta}{}_{r} = \\Gamma{}^{\\phi}{}_{r}{}_{\\phi} = \\Gamma{}^{\\phi}{}_{\\phi}{}_{r} &= \\frac{1}{r} \\\\\n",
       "    \\Gamma{}^{\\theta}{}_{\\phi}{}_{\\phi} &= - \\frac{\\sin{\\left(2 \\theta \\right)}}{2} \\\\\n",
       "    \\Gamma{}^{\\phi}{}_{\\theta}{}_{\\phi} = \\Gamma{}^{\\phi}{}_{\\phi}{}_{\\theta} &= \\frac{1}{\\tan{\\left(\\theta \\right)}} \n",
       "\\end{align*}$$"
      ],
      "text/plain": [
       "<IPython.core.display.Markdown object>"
      ]
     },
     "metadata": {},
     "output_type": "display_data"
    }
   ],
   "source": [
    "~Wormhole.christoffel()"
   ]
  },
  {
   "cell_type": "code",
   "execution_count": 21,
   "id": "9cb95452-801a-42c8-96fa-64678f7463dd",
   "metadata": {},
   "outputs": [
    {
     "data": {
      "text/markdown": [
       "$$\\begin{align*}\n",
       "    R{}_{t}{}_{t} &= \\frac{\\left(- \\partial_{r} b \\partial_{r} ν r - \\partial_{r} ν^{2} b r + \\partial_{r} ν^{2} r^{2} - 3 \\partial_{r} ν b + 4 \\partial_{r} ν r - 2 b r \\frac{\\mathrm{d}}{\\mathrm{d} r} \\partial_{r} ν + 2 r^{2} \\frac{\\mathrm{d}}{\\mathrm{d} r} \\partial_{r} ν\\right) e^{ν}}{4 r^{2}} \\\\\n",
       "    R{}_{r}{}_{r} &= \\frac{\\partial_{r} b r - b + \\frac{r \\left(- \\partial_{r} ν^{2} r \\left(- b + r\\right) + \\partial_{r} ν \\left(\\partial_{r} b r - b\\right) - 2 r \\left(- b + r\\right) \\frac{\\mathrm{d}}{\\mathrm{d} r} \\partial_{r} ν\\right)}{4}}{r^{2} \\left(- b + r\\right)} \\\\\n",
       "    R{}_{\\theta}{}_{\\theta} &= \\frac{\\partial_{r} b r - \\partial_{r} ν r \\left(- b + r\\right) + b}{2 r} \\\\\n",
       "    R{}_{\\phi}{}_{\\phi} &= \\frac{\\left(\\partial_{r} b r - \\partial_{r} ν r \\left(- b + r\\right) + b\\right) \\sin^{2}{\\left(\\theta \\right)}}{2 r} \n",
       "\\end{align*}$$"
      ],
      "text/plain": [
       "<IPython.core.display.Markdown object>"
      ]
     },
     "metadata": {},
     "output_type": "display_data"
    }
   ],
   "source": [
    "~Wormhole.ricci_tensor()"
   ]
  },
  {
   "cell_type": "code",
   "execution_count": 22,
   "id": "88dd803a-4f1e-43a3-9c04-42e848c98117",
   "metadata": {},
   "outputs": [
    {
     "data": {
      "text/markdown": [
       "$$\\begin{align*}\n",
       "    R &= \\frac{\\partial_{r} b \\partial_{r} ν}{2 r} + \\frac{2 \\partial_{r} b}{r^{2}} + \\frac{\\partial_{r} ν^{2} b}{2 r} - \\frac{\\partial_{r} ν^{2}}{2} + \\frac{3 \\partial_{r} ν b}{2 r^{2}} - \\frac{2 \\partial_{r} ν}{r} + \\frac{b \\frac{\\mathrm{d}}{\\mathrm{d} r} \\partial_{r} ν}{r} - \\frac{\\mathrm{d}}{\\mathrm{d} r} \\partial_{r} ν \n",
       "\\end{align*}$$"
      ],
      "text/plain": [
       "<IPython.core.display.Markdown object>"
      ]
     },
     "metadata": {},
     "output_type": "display_data"
    }
   ],
   "source": [
    "~Wormhole.ricci_scalar()"
   ]
  },
  {
   "cell_type": "code",
   "execution_count": 25,
   "id": "89eebb16-7728-4878-a444-2e3f72130f43",
   "metadata": {},
   "outputs": [
    {
     "data": {
      "text/markdown": [
       "$$\\begin{align*}\n",
       "    G{}_{t}{}_{t} &= \\frac{\\partial_{r} b e^{ν}}{r^{2}} \\\\\n",
       "    G{}_{r}{}_{r} &= \\frac{- \\partial_{r} ν b r + \\partial_{r} ν r^{2} - b}{r^{2} \\left(- b + r\\right)} \\\\\n",
       "    G{}_{\\theta}{}_{\\theta} &= - \\frac{\\partial_{r} b \\partial_{r} ν r}{4} - \\frac{\\partial_{r} b}{2} - \\frac{\\partial_{r} ν^{2} b r}{4} + \\frac{\\partial_{r} ν^{2} r^{2}}{4} - \\frac{\\partial_{r} ν b}{4} + \\frac{\\partial_{r} ν r}{2} - \\frac{b r \\frac{\\mathrm{d}}{\\mathrm{d} r} \\partial_{r} ν}{2} + \\frac{b}{2 r} + \\frac{r^{2} \\frac{\\mathrm{d}}{\\mathrm{d} r} \\partial_{r} ν}{2} \\\\\n",
       "    G{}_{\\phi}{}_{\\phi} &= \\frac{\\left(- \\partial_{r} b \\partial_{r} ν r^{2} - 2 \\partial_{r} b r - \\partial_{r} ν^{2} b r^{2} + \\partial_{r} ν^{2} r^{3} - \\partial_{r} ν b r + 2 \\partial_{r} ν r^{2} - 2 b r^{2} \\frac{\\mathrm{d}}{\\mathrm{d} r} \\partial_{r} ν + 2 b + 2 r^{3} \\frac{\\mathrm{d}}{\\mathrm{d} r} \\partial_{r} ν\\right) \\sin^{2}{\\left(\\theta \\right)}}{4 r} \n",
       "\\end{align*}$$"
      ],
      "text/plain": [
       "<IPython.core.display.Markdown object>"
      ]
     },
     "metadata": {},
     "output_type": "display_data"
    }
   ],
   "source": [
    "~Wormhole.einstein()"
   ]
  },
  {
   "cell_type": "code",
   "execution_count": 27,
   "id": "ebd314e1-1a39-427f-8aef-7acd8877d874",
   "metadata": {},
   "outputs": [
    {
     "data": {
      "text/markdown": [
       "$$G{}_{\\mu}{}_{\\nu}\\Bigg|_{\\left(t, r, \\theta, \\phi\\right)} = \\left(\\begin{matrix}\\frac{\\partial_{r} b e^{ν}}{r^{2}} & 0 & 0 & 0\\\\0 & \\frac{- \\partial_{r} ν b r + \\partial_{r} ν r^{2} - b}{r^{2} \\left(- b + r\\right)} & 0 & 0\\\\0 & 0 & - \\frac{\\partial_{r} b \\partial_{r} ν r}{4} - \\frac{\\partial_{r} b}{2} - \\frac{\\partial_{r} ν^{2} b r}{4} + \\frac{\\partial_{r} ν^{2} r^{2}}{4} - \\frac{\\partial_{r} ν b}{4} + \\frac{\\partial_{r} ν r}{2} - \\frac{b r \\frac{\\mathrm{d}}{\\mathrm{d} r} \\partial_{r} ν}{2} + \\frac{b}{2 r} + \\frac{r^{2} \\frac{\\mathrm{d}}{\\mathrm{d} r} \\partial_{r} ν}{2} & 0\\\\0 & 0 & 0 & \\frac{\\left(- \\partial_{r} b \\partial_{r} ν r^{2} - 2 \\partial_{r} b r - \\partial_{r} ν^{2} b r^{2} + \\partial_{r} ν^{2} r^{3} - \\partial_{r} ν b r + 2 \\partial_{r} ν r^{2} - 2 b r^{2} \\frac{\\mathrm{d}}{\\mathrm{d} r} \\partial_{r} ν + 2 b + 2 r^{3} \\frac{\\mathrm{d}}{\\mathrm{d} r} \\partial_{r} ν\\right) \\sin^{2}{\\left(\\theta \\right)}}{4 r}\\end{matrix}\\right)$$"
      ],
      "text/plain": [
       "<OGRePy._core.Einstein at 0x1feb4a79f10>"
      ]
     },
     "execution_count": 27,
     "metadata": {},
     "output_type": "execute_result"
    }
   ],
   "source": [
    "# Calculate Einstein tensor by calling the method\n",
    "Einstein = Wormhole.einstein()\n"
   ]
  },
  {
   "cell_type": "code",
   "execution_count": 29,
   "id": "c958a84d-d763-4b0b-b492-b9febab2deeb",
   "metadata": {},
   "outputs": [
    {
     "data": {
      "text/markdown": [
       "**OGRePy**: Using default coordinate system `Spherical` and default index configuration (-1, -1)."
      ],
      "text/plain": [
       "<IPython.core.display.Markdown object>"
      ]
     },
     "metadata": {},
     "output_type": "display_data"
    },
    {
     "data": {
      "text/latex": [
       "$\\displaystyle \\left[\\begin{matrix}\\frac{e^{ν{\\left(r \\right)}} \\frac{d}{d r} b{\\left(r \\right)}}{r^{2}} & 0 & 0 & 0\\\\0 & \\frac{r^{2} \\frac{d}{d r} ν{\\left(r \\right)} - r b{\\left(r \\right)} \\frac{d}{d r} ν{\\left(r \\right)} - b{\\left(r \\right)}}{r^{2} \\left(r - b{\\left(r \\right)}\\right)} & 0 & 0\\\\0 & 0 & \\frac{r^{2} \\left(\\frac{d}{d r} ν{\\left(r \\right)}\\right)^{2}}{4} + \\frac{r^{2} \\frac{d^{2}}{d r^{2}} ν{\\left(r \\right)}}{2} - \\frac{r b{\\left(r \\right)} \\left(\\frac{d}{d r} ν{\\left(r \\right)}\\right)^{2}}{4} - \\frac{r b{\\left(r \\right)} \\frac{d^{2}}{d r^{2}} ν{\\left(r \\right)}}{2} - \\frac{r \\frac{d}{d r} b{\\left(r \\right)} \\frac{d}{d r} ν{\\left(r \\right)}}{4} + \\frac{r \\frac{d}{d r} ν{\\left(r \\right)}}{2} - \\frac{b{\\left(r \\right)} \\frac{d}{d r} ν{\\left(r \\right)}}{4} - \\frac{\\frac{d}{d r} b{\\left(r \\right)}}{2} + \\frac{b{\\left(r \\right)}}{2 r} & 0\\\\0 & 0 & 0 & \\frac{\\left(r^{3} \\left(\\frac{d}{d r} ν{\\left(r \\right)}\\right)^{2} + 2 r^{3} \\frac{d^{2}}{d r^{2}} ν{\\left(r \\right)} - r^{2} b{\\left(r \\right)} \\left(\\frac{d}{d r} ν{\\left(r \\right)}\\right)^{2} - 2 r^{2} b{\\left(r \\right)} \\frac{d^{2}}{d r^{2}} ν{\\left(r \\right)} - r^{2} \\frac{d}{d r} b{\\left(r \\right)} \\frac{d}{d r} ν{\\left(r \\right)} + 2 r^{2} \\frac{d}{d r} ν{\\left(r \\right)} - r b{\\left(r \\right)} \\frac{d}{d r} ν{\\left(r \\right)} - 2 r \\frac{d}{d r} b{\\left(r \\right)} + 2 b{\\left(r \\right)}\\right) \\sin^{2}{\\left(\\theta \\right)}}{4 r}\\end{matrix}\\right]$"
      ],
      "text/plain": [
       "[[exp(ν(r))*Derivative(b(r), r)/r**2, 0, 0, 0], [0, (r**2*Derivative(ν(r), r) - r*b(r)*Derivative(ν(r), r) - b(r))/(r**2*(r - b(r))), 0, 0], [0, 0, r**2*Derivative(ν(r), r)**2/4 + r**2*Derivative(ν(r), (r, 2))/2 - r*b(r)*Derivative(ν(r), r)**2/4 - r*b(r)*Derivative(ν(r), (r, 2))/2 - r*Derivative(b(r), r)*Derivative(ν(r), r)/4 + r*Derivative(ν(r), r)/2 - b(r)*Derivative(ν(r), r)/4 - Derivative(b(r), r)/2 + b(r)/(2*r), 0], [0, 0, 0, (r**3*Derivative(ν(r), r)**2 + 2*r**3*Derivative(ν(r), (r, 2)) - r**2*b(r)*Derivative(ν(r), r)**2 - 2*r**2*b(r)*Derivative(ν(r), (r, 2)) - r**2*Derivative(b(r), r)*Derivative(ν(r), r) + 2*r**2*Derivative(ν(r), r) - r*b(r)*Derivative(ν(r), r) - 2*r*Derivative(b(r), r) + 2*b(r))*sin(\\theta)**2/(4*r)]]"
      ]
     },
     "execution_count": 29,
     "metadata": {},
     "output_type": "execute_result"
    }
   ],
   "source": [
    "# Call the components() method on the Einstein tensor object\n",
    "Einstein_components = Einstein.components()"
   ]
  },
  {
   "cell_type": "code",
   "execution_count": 31,
   "id": "f0e92386-67a4-43bb-a6a1-56a7fed00f51",
   "metadata": {},
   "outputs": [
    {
     "data": {
      "text/latex": [
       "$\\displaystyle \\frac{e^{ν{\\left(r \\right)}} \\frac{d}{d r} b{\\left(r \\right)}}{r^{2}}$"
      ],
      "text/plain": [
       "exp(ν(r))*Derivative(b(r), r)/r**2"
      ]
     },
     "execution_count": 31,
     "metadata": {},
     "output_type": "execute_result"
    }
   ],
   "source": [
    "G_tt=Einstein_components[0,0]\n",
    "G_tt"
   ]
  },
  {
   "cell_type": "code",
   "execution_count": 33,
   "id": "869cf173-da8b-412b-a8b9-8d07775b9233",
   "metadata": {},
   "outputs": [
    {
     "data": {
      "text/latex": [
       "$\\displaystyle \\frac{r^{2} \\frac{d}{d r} ν{\\left(r \\right)} - r b{\\left(r \\right)} \\frac{d}{d r} ν{\\left(r \\right)} - b{\\left(r \\right)}}{r^{2} \\left(r - b{\\left(r \\right)}\\right)}$"
      ],
      "text/plain": [
       "(r**2*Derivative(ν(r), r) - r*b(r)*Derivative(ν(r), r) - b(r))/(r**2*(r - b(r)))"
      ]
     },
     "execution_count": 33,
     "metadata": {},
     "output_type": "execute_result"
    }
   ],
   "source": [
    "G_rr = Einstein_components[1, 1]\n",
    "G_rr"
   ]
  },
  {
   "cell_type": "code",
   "execution_count": null,
   "id": "affe445c-c0b8-4964-b0b5-437be0bf7e5c",
   "metadata": {},
   "outputs": [],
   "source": []
  },
  {
   "cell_type": "code",
   "execution_count": 36,
   "id": "e5b04df4-053a-468c-b301-fb9dd1ffffbb",
   "metadata": {},
   "outputs": [
    {
     "data": {
      "text/markdown": [
       "$$\\text{No non-zero elements.}$$"
      ],
      "text/plain": [
       "<IPython.core.display.Markdown object>"
      ]
     },
     "metadata": {},
     "output_type": "display_data"
    }
   ],
   "source": [
    "~(T.PartialD(mu) @ Wormhole(alpha,beta) - Wormhole.christoffel(lamda,mu,alpha)@Wormhole(lamda,beta)-Wormhole.christoffel(lamda,mu,beta)@Wormhole(lamda,alpha))"
   ]
  },
  {
   "cell_type": "code",
   "execution_count": 38,
   "id": "8fc5ae40-aebd-4c69-9801-c746e77a3fd2",
   "metadata": {},
   "outputs": [
    {
     "data": {
      "text/markdown": [
       "$$u{}^{\\mu}\\Bigg|_{\\left(t, r, \\theta, \\phi\\right)} = \\left(\\begin{matrix}e^{- \\frac{ν}{2}}\\\\0\\\\0\\\\0\\end{matrix}\\right)$$"
      ],
      "text/plain": [
       "<OGRePy._core.Tensor at 0x1feb4e1e0c0>"
      ]
     },
     "execution_count": 38,
     "metadata": {},
     "output_type": "execute_result"
    }
   ],
   "source": [
    "RestVelocity=T.Tensor(metric=Wormhole,coords=Spherical,indices=(1,),components=[sp.exp(-ν_r/2),0,0,0],symbol=\"u\")"
   ]
  },
  {
   "cell_type": "code",
   "execution_count": 40,
   "id": "8bfecac7-ef20-4f67-96de-72824ca015ac",
   "metadata": {},
   "outputs": [
    {
     "data": {
      "text/markdown": [
       "$$u{}_{\\mu}\\Bigg|_{\\left(t, r, \\theta, \\phi\\right)} = \\left(\\begin{matrix}e^{\\frac{ν}{2}}\\\\0\\\\0\\\\0\\end{matrix}\\right)$$"
      ],
      "text/plain": [
       "<OGRePy._core.Tensor at 0x1feb4dc2840>"
      ]
     },
     "execution_count": 40,
     "metadata": {},
     "output_type": "execute_result"
    }
   ],
   "source": [
    "RestVelocity=T.Tensor(metric=Wormhole,coords=Spherical,indices=(-1,),components=[sp.exp(ν_r/2),0,0,0],symbol=\"u\")"
   ]
  },
  {
   "cell_type": "code",
   "execution_count": 42,
   "id": "55e6ce5c-f8ef-4721-8695-415b6e1475f2",
   "metadata": {},
   "outputs": [
    {
     "data": {
      "text/latex": [
       "$\\displaystyle \\rho{\\left(r \\right)}$"
      ],
      "text/plain": [
       "\\rho(r)"
      ]
     },
     "execution_count": 42,
     "metadata": {},
     "output_type": "execute_result"
    }
   ],
   "source": [
    "rho_r=T.func(\"rho\")(r)"
   ]
  },
  {
   "cell_type": "code",
   "execution_count": 44,
   "id": "22875308-bf97-46da-bc4d-d3cd0efffa56",
   "metadata": {},
   "outputs": [
    {
     "data": {
      "text/latex": [
       "$\\displaystyle P{\\left(r \\right)}$"
      ],
      "text/plain": [
       "P(r)"
      ]
     },
     "execution_count": 44,
     "metadata": {},
     "output_type": "execute_result"
    }
   ],
   "source": [
    "P_r=T.func(\"P\")(r)"
   ]
  },
  {
   "cell_type": "code",
   "execution_count": 46,
   "id": "30bc917d-bd6c-449f-9848-d2efaadf842c",
   "metadata": {},
   "outputs": [
    {
     "data": {
      "text/markdown": [
       "$$T{}_{\\mu}{}_{\\nu}\\Bigg|_{\\left(t, r, \\theta, \\phi\\right)} = \\left(\\begin{matrix}\\rho{\\left(r \\right)} e^{ν} & 0 & 0 & 0\\\\0 & \\frac{P r}{- b + r} & 0 & 0\\\\0 & 0 & P r^{2} & 0\\\\0 & 0 & 0 & P r^{2} \\sin^{2}{\\left(\\theta \\right)}\\end{matrix}\\right)$$"
      ],
      "text/plain": [
       "<OGRePy._core.Tensor at 0x1feb4e56f70>"
      ]
     },
     "execution_count": 46,
     "metadata": {},
     "output_type": "execute_result"
    }
   ],
   "source": [
    "PerfectFluidWormhole=T.calc(formula=(rho_r+P_r)*RestVelocity(mu)@RestVelocity(nu)+P_r*Wormhole(mu,nu),symbol=\"T\")"
   ]
  },
  {
   "cell_type": "code",
   "execution_count": 48,
   "id": "799bd27f-5e55-4302-828c-bec7102f6ee6",
   "metadata": {},
   "outputs": [
    {
     "data": {
      "text/markdown": [
       "$$\\begin{align*}\n",
       "    \\nabla{}_{\\mu} T{}^{\\mu}{}_{r} &= \\partial_{r} P + \\frac{\\partial_{r} ν \\left(P + \\rho{\\left(r \\right)}\\right)}{2} \n",
       "\\end{align*}$$"
      ],
      "text/plain": [
       "<IPython.core.display.Markdown object>"
      ]
     },
     "metadata": {},
     "output_type": "display_data"
    }
   ],
   "source": [
    "~(T.CovariantD(mu)@PerfectFluidWormhole(mu,nu))"
   ]
  },
  {
   "cell_type": "code",
   "execution_count": 50,
   "id": "f16df175-8971-4eb3-a441-57c6cf86c0f4",
   "metadata": {},
   "outputs": [
    {
     "data": {
      "text/plain": [
       "P"
      ]
     },
     "execution_count": 50,
     "metadata": {},
     "output_type": "execute_result"
    }
   ],
   "source": [
    "t, r, theta, phi = sp.symbols('t r theta phi')\n",
    "b = sp.Function('b')\n",
    "ν = sp.Function('ν')\n",
    "mu=sp.symbols(\"mu\")\n",
    "a = sp.Function('a')\n",
    "K = sp.symbols('K')\n",
    "rho = sp.Function('rho')\n",
    "P = sp.Function('P')"
   ]
  },
  {
   "cell_type": "code",
   "execution_count": 52,
   "id": "8eef294f-6c0a-4f7b-ac46-88e2b6ac2aa1",
   "metadata": {},
   "outputs": [
    {
     "data": {
      "text/latex": [
       "$\\displaystyle 0.5 \\left(P{\\left(r \\right)} + \\rho{\\left(r \\right)}\\right) \\frac{d}{d r} ν{\\left(r \\right)} + \\frac{d}{d r} P{\\left(r \\right)} = 0$"
      ],
      "text/plain": [
       "Eq(0.5*(P(r) + rho(r))*Derivative(ν(r), r) + Derivative(P(r), r), 0)"
      ]
     },
     "execution_count": 52,
     "metadata": {},
     "output_type": "execute_result"
    }
   ],
   "source": [
    "Conservation_Equation=sp.Eq(sp.diff(P(r),r)+ (1/2)*sp.diff(ν(r),r) * (P(r)+rho(r)),0)\n",
    "Conservation_Equation"
   ]
  },
  {
   "cell_type": "code",
   "execution_count": 104,
   "id": "7984d29f-a2d1-497e-9aab-803d77b035c9",
   "metadata": {},
   "outputs": [
    {
     "data": {
      "text/latex": [
       "$\\displaystyle P{\\left(r \\right)} = - 2 \\rho{\\left(r \\right)}$"
      ],
      "text/plain": [
       "Eq(P(r), -2*rho(r))"
      ]
     },
     "execution_count": 104,
     "metadata": {},
     "output_type": "execute_result"
    }
   ],
   "source": [
    "eos=sp.Eq(P(r),-2*rho(r))\n",
    "eos"
   ]
  },
  {
   "cell_type": "code",
   "execution_count": 106,
   "id": "c7875c2b-7df2-4163-9764-fcd7a9898471",
   "metadata": {},
   "outputs": [
    {
     "data": {
      "text/latex": [
       "$\\displaystyle \\frac{e^{ν{\\left(r \\right)}} \\frac{d}{d r} b{\\left(r \\right)}}{r^{2}} = 8 \\pi \\rho{\\left(r \\right)} e^{ν{\\left(r \\right)}}$"
      ],
      "text/plain": [
       "Eq(exp(ν(r))*Derivative(b(r), r)/r**2, 8*pi*rho(r)*exp(ν(r)))"
      ]
     },
     "execution_count": 106,
     "metadata": {},
     "output_type": "execute_result"
    }
   ],
   "source": [
    "EFE_1=sp.Eq(G_tt,8*sp.pi*rho(r)*sp.exp(ν(r)))\n",
    "EFE_1"
   ]
  },
  {
   "cell_type": "code",
   "execution_count": 108,
   "id": "26bc27be-dcd8-4c59-b1ac-e7bb693febf8",
   "metadata": {},
   "outputs": [
    {
     "data": {
      "text/latex": [
       "$\\displaystyle \\frac{\\partial}{\\partial r} \\left(- \\frac{e^{- ν{\\left(r \\right)} + ν{\\left(r \\right)}} \\frac{d}{d r} b{\\left(r \\right)}}{4 \\pi r^{2}}\\right) - \\frac{0.0625 e^{- ν{\\left(r \\right)} + ν{\\left(r \\right)}} \\frac{d}{d r} b{\\left(r \\right)} \\frac{d}{d r} ν{\\left(r \\right)}}{\\pi r^{2}} = 0$"
      ],
      "text/plain": [
       "Eq(Derivative(-exp(-ν(r) + ν(r))*Derivative(b(r), r)/(4*pi*r**2), r) - 0.0625*exp(-ν(r) + ν(r))*Derivative(b(r), r)*Derivative(ν(r), r)/(pi*r**2), 0)"
      ]
     },
     "execution_count": 108,
     "metadata": {},
     "output_type": "execute_result"
    }
   ],
   "source": [
    "Conservation_Equation_1=Conservation_Equation.subs([(rho(r),sp.diff(b(r),r)/(8*sp.pi*r**2)),(P(r),-2*sp.diff(b(r),r)/(8*sp.pi*r**2))])\n",
    "Conservation_Equation_1"
   ]
  },
  {
   "cell_type": "code",
   "execution_count": 110,
   "id": "73c9b28a-5e9e-48ae-9778-11cc8606c674",
   "metadata": {},
   "outputs": [
    {
     "data": {
      "text/latex": [
       "$\\displaystyle - \\frac{0.0625 \\frac{d}{d r} b{\\left(r \\right)} \\frac{d}{d r} ν{\\left(r \\right)}}{\\pi r^{2}} - \\frac{\\frac{d^{2}}{d r^{2}} b{\\left(r \\right)}}{4 \\pi r^{2}} + \\frac{\\frac{d}{d r} b{\\left(r \\right)}}{2 \\pi r^{3}} = 0$"
      ],
      "text/plain": [
       "Eq(-0.0625*Derivative(b(r), r)*Derivative(ν(r), r)/(pi*r**2) - Derivative(b(r), (r, 2))/(4*pi*r**2) + Derivative(b(r), r)/(2*pi*r**3), 0)"
      ]
     },
     "execution_count": 110,
     "metadata": {},
     "output_type": "execute_result"
    }
   ],
   "source": [
    "Conservation_Equation_2=sp.Eq(sp.diff(-sp.diff(b(r),r)/(4*sp.pi*r**2),r) - 0.0625*sp.diff(b(r),r)*sp.diff(ν(r),r)/(sp.pi*r**2) , 0)\n",
    "Conservation_Equation_2"
   ]
  },
  {
   "cell_type": "code",
   "execution_count": 112,
   "id": "9db0b79f-a55b-40b4-a210-d7f5848f1f5e",
   "metadata": {},
   "outputs": [
    {
     "data": {
      "text/latex": [
       "$\\displaystyle - \\frac{0.0625 \\frac{d}{d r} 0 \\frac{d}{d r} b{\\left(r \\right)}}{\\pi r^{2}} - \\frac{\\frac{d^{2}}{d r^{2}} b{\\left(r \\right)}}{4 \\pi r^{2}} + \\frac{\\frac{d}{d r} b{\\left(r \\right)}}{2 \\pi r^{3}} = 0$"
      ],
      "text/plain": [
       "Eq(-0.0625*Derivative(0, r)*Derivative(b(r), r)/(pi*r**2) - Derivative(b(r), (r, 2))/(4*pi*r**2) + Derivative(b(r), r)/(2*pi*r**3), 0)"
      ]
     },
     "execution_count": 112,
     "metadata": {},
     "output_type": "execute_result"
    }
   ],
   "source": [
    "Conservation_Equation_3=Conservation_Equation_2.subs(ν(r),0)\n",
    "Conservation_Equation_3"
   ]
  },
  {
   "cell_type": "code",
   "execution_count": 114,
   "id": "0c408852-0e96-4644-ab13-9b0724b89349",
   "metadata": {},
   "outputs": [
    {
     "data": {
      "text/latex": [
       "$\\displaystyle \\frac{- r \\frac{d^{2}}{d r^{2}} b{\\left(r \\right)} + 2 \\frac{d}{d r} b{\\left(r \\right)}}{4 \\pi r^{3}} = 0$"
      ],
      "text/plain": [
       "Eq((-r*Derivative(b(r), (r, 2)) + 2*Derivative(b(r), r))/(4*pi*r**3), 0)"
      ]
     },
     "execution_count": 114,
     "metadata": {},
     "output_type": "execute_result"
    }
   ],
   "source": [
    "Conservation_Equation_4=Conservation_Equation_3.simplify()\n",
    "Conservation_Equation_4"
   ]
  },
  {
   "cell_type": "code",
   "execution_count": 129,
   "id": "b0b14c17-8427-4457-9fa0-db67a53dc95b",
   "metadata": {},
   "outputs": [
    {
     "data": {
      "text/latex": [
       "$\\displaystyle b{\\left(r \\right)} = C_{1} + C_{2} r^{3}$"
      ],
      "text/plain": [
       "Eq(b(r), C1 + C2*r**3)"
      ]
     },
     "execution_count": 129,
     "metadata": {},
     "output_type": "execute_result"
    }
   ],
   "source": [
    "solution=sp.dsolve(Conservation_Equation_4,b(r))\n",
    "solution"
   ]
  },
  {
   "cell_type": "code",
   "execution_count": 134,
   "id": "81284e37-5a3e-4816-bffa-2286ad06ba14",
   "metadata": {},
   "outputs": [
    {
     "data": {
      "text/latex": [
       "$\\displaystyle C_{2}$"
      ],
      "text/plain": [
       "C2"
      ]
     },
     "execution_count": 134,
     "metadata": {},
     "output_type": "execute_result"
    }
   ],
   "source": [
    "C1=sp.Symbol(\"C1\")\n",
    "C2=sp.Symbol(\"C2\")"
   ]
  },
  {
   "cell_type": "code",
   "execution_count": 150,
   "id": "d7dddee4-ec39-41a2-bb88-4ba5f8266c82",
   "metadata": {},
   "outputs": [
    {
     "data": {
      "text/latex": [
       "$\\displaystyle C_{1} + C_{2} r^{3}$"
      ],
      "text/plain": [
       "C1 + C2*r**3"
      ]
     },
     "execution_count": 150,
     "metadata": {},
     "output_type": "execute_result"
    }
   ],
   "source": [
    "# Define b(r)\n",
    "b = C1 + C2 * r**3"
   ]
  },
  {
   "cell_type": "code",
   "execution_count": 152,
   "id": "d89f0608-34e1-464c-abaa-04e96f6cc1b0",
   "metadata": {},
   "outputs": [
    {
     "data": {
      "text/latex": [
       "$\\displaystyle C_{1} = 0$"
      ],
      "text/plain": [
       "Eq(C1, 0)"
      ]
     },
     "execution_count": 152,
     "metadata": {},
     "output_type": "execute_result"
    }
   ],
   "source": [
    "# Condition 1: b(r=0) = 0\n",
    "condition1 = sp.Eq(b.subs(r, 0), 0)"
   ]
  },
  {
   "cell_type": "code",
   "execution_count": 154,
   "id": "2486b26d-19e3-48aa-ba93-54b0125af4e1",
   "metadata": {},
   "outputs": [
    {
     "data": {
      "text/latex": [
       "$\\displaystyle 0$"
      ],
      "text/plain": [
       "0"
      ]
     },
     "execution_count": 154,
     "metadata": {},
     "output_type": "execute_result"
    }
   ],
   "source": [
    "# Solve for C1\n",
    "C1_value = sp.solve(condition1, C1)[0]\n",
    "C1_value"
   ]
  },
  {
   "cell_type": "code",
   "execution_count": 156,
   "id": "c463acb6-658b-4a69-81ba-5af727395f41",
   "metadata": {},
   "outputs": [
    {
     "data": {
      "text/latex": [
       "$\\displaystyle 3 C_{2} r^{2}$"
      ],
      "text/plain": [
       "3*C2*r**2"
      ]
     },
     "execution_count": 156,
     "metadata": {},
     "output_type": "execute_result"
    }
   ],
   "source": [
    "# Compute b'(r)\n",
    "b_prime = sp.diff(b, r)\n",
    "b_prime"
   ]
  },
  {
   "cell_type": "code",
   "execution_count": 158,
   "id": "b6124932-1e57-4f74-8fcf-d1e9cefc9be0",
   "metadata": {},
   "outputs": [
    {
     "data": {
      "text/latex": [
       "$\\displaystyle 3 C_{2} = 8 \\pi$"
      ],
      "text/plain": [
       "Eq(3*C2, 8*pi)"
      ]
     },
     "execution_count": 158,
     "metadata": {},
     "output_type": "execute_result"
    }
   ],
   "source": [
    "# Condition 2: b'(r=1) = 8*pi\n",
    "condition2 = sp.Eq(b_prime.subs(r, 1), 8 * sp.pi)"
   ]
  },
  {
   "cell_type": "code",
   "execution_count": 160,
   "id": "ca607a21-590b-46a4-b540-a4ffda7d9c50",
   "metadata": {},
   "outputs": [
    {
     "data": {
      "text/latex": [
       "$\\displaystyle \\frac{8 \\pi}{3}$"
      ],
      "text/plain": [
       "8*pi/3"
      ]
     },
     "execution_count": 160,
     "metadata": {},
     "output_type": "execute_result"
    }
   ],
   "source": [
    "# Solve for C2\n",
    "C2_value = sp.solve(condition2, C2)[0]\n"
   ]
  },
  {
   "cell_type": "code",
   "execution_count": 166,
   "id": "705a8904-4b47-44d8-aed4-b9febbdb9297",
   "metadata": {},
   "outputs": [
    {
     "data": {
      "text/latex": [
       "$\\displaystyle \\frac{8 \\pi r^{3}}{3}$"
      ],
      "text/plain": [
       "8*pi*r**3/3"
      ]
     },
     "execution_count": 166,
     "metadata": {},
     "output_type": "execute_result"
    }
   ],
   "source": [
    "# Substitute C2 back into b(r)\n",
    "b = b.subs([(C2, C2_value),(C1,C1_value)])"
   ]
  },
  {
   "cell_type": "code",
   "execution_count": 168,
   "id": "a66c536a-de4a-4320-8a3c-6212b9e8695d",
   "metadata": {},
   "outputs": [
    {
     "data": {
      "image/png": "[encoded data removed]",
      "text/plain": [
       "<Figure size 800x600 with 1 Axes>"
      ]
     },
     "metadata": {},
     "output_type": "display_data"
    }
   ],
   "source": [
    "\n",
    "\n",
    "# Define the function b(r)\n",
    "def b(r):\n",
    "    return (8 * np.pi / 3) * r**3\n",
    "\n",
    "# Define the range of r values\n",
    "r_vals = np.linspace(0, 10, 100)\n",
    "\n",
    "# Compute the corresponding b(r) values\n",
    "b_vals = b(r_vals)\n",
    "\n",
    "# Plot b(r) vs r\n",
    "plt.figure(figsize=(8, 6))\n",
    "plt.plot(r_vals, b_vals, label=r\"$b(r) = \\frac{8\\pi}{3} r^3$\", color='blue')\n",
    "plt.xlabel(r\"$r$\", fontsize=14)\n",
    "plt.ylabel(r\"$b(r)$\", fontsize=14)\n",
    "plt.title(\"Plot of $b(r)$ vs $r$\", fontsize=16)\n",
    "plt.grid(True)\n",
    "plt.legend(fontsize=12)\n",
    "plt.show()\n"
   ]
  },
  {
   "cell_type": "code",
   "execution_count": null,
   "id": "c7246fe2-0683-42c5-923c-2efde1db150a",
   "metadata": {},
   "outputs": [],
   "source": []
  }
 ],
 "metadata": {
  "kernelspec": {
   "display_name": "Python 3 (ipykernel)",
   "language": "python",
   "name": "python3"
  },
  "language_info": {
   "codemirror_mode": {
    "name": "ipython",
    "version": 3
   },
   "file_extension": ".py",
   "mimetype": "text/x-python",
   "name": "python",
   "nbconvert_exporter": "python",
   "pygments_lexer": "ipython3",
   "version": "3.12.4"
  }
 },
 "nbformat": 4,
 "nbformat_minor": 5
}
