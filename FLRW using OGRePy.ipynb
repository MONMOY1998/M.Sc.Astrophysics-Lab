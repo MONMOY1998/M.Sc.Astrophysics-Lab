{
 "cells": [
  {
   "cell_type": "code",
   "execution_count": 1,
   "id": "87a362ca-87b5-4a47-a981-88affe1007de",
   "metadata": {},
   "outputs": [
    {
     "data": {
      "text/markdown": [
       "**OGRePy: An <u>O</u>bject-Oriented <u>G</u>eneral <u>Re</u>lativity Package for <u>Py</u>thon\\\n",
       "By [Barak Shoshany](https://github.com/bshoshany) ([baraksh@gmail.com](mailto:baraksh@gmail.com)) ([baraksh.com](https://baraksh.com/))\\\n",
       "v1.2.0 (2024-09-15)\\\n",
       "GitHub repository: <https://github.com/bshoshany/OGRePy>\\\n",
       "Documentation: <a href=\"C:/Users/User/AppData/Local/Programs/Python/Python312/Lib/site-packages/OGRePy/docs/OGRePy_Documentation.ipynb\">.ipynb</a>, <a href=\"C:/Users/User/AppData/Local/Programs/Python/Python312/Lib/site-packages/OGRePy/docs/OGRePy_Documentation.pdf\">.pdf</a>, <a href=\"#\" onclick=\"window.open('file:///C:/Users/User/AppData/Local/Programs/Python/Python312/Lib/site-packages/OGRePy/docs/OGRePy_Documentation.html', '_blank')\">.html</a>**"
      ],
      "text/plain": [
       "<IPython.core.display.Markdown object>"
      ]
     },
     "metadata": {},
     "output_type": "display_data"
    },
    {
     "data": {
      "text/markdown": [
       "**OGRePy**: Could not check for updates automatically: `<urlopen error [Errno 11001] getaddrinfo failed>`. Please visit <https://pypi.org/project/OGRePy/> to check manually."
      ],
      "text/plain": [
       "<IPython.core.display.Markdown object>"
      ]
     },
     "metadata": {},
     "output_type": "display_data"
    }
   ],
   "source": [
    "import OGRePy as T\n",
    "import sympy as sp\n",
    "import matplotlib.pyplot as plt\n",
    "from scipy.integrate import solve_ivp\n",
    "import numpy as np"
   ]
  },
  {
   "cell_type": "code",
   "execution_count": 2,
   "id": "616acf42-0d71-458c-a891-893ebd992963",
   "metadata": {},
   "outputs": [],
   "source": [
    "from OGRePy.abc import t,phi,theta,rho,P,K,alpha,beta,lamda,mu,nu\n",
    "r = T.sym(\"r\", nonnegative=True)\n",
    "Spherical = T.Coordinates(t, r, theta, phi)"
   ]
  },
  {
   "cell_type": "code",
   "execution_count": 3,
   "id": "7eab7710-be7d-406b-8523-d7dffcb74316",
   "metadata": {},
   "outputs": [],
   "source": [
    "from IPython.core.interactiveshell import InteractiveShell\n",
    "InteractiveShell.ast_node_interactivity = \"last_expr_or_assign\""
   ]
  },
  {
   "cell_type": "code",
   "execution_count": 4,
   "id": "81548385-536e-4736-aca2-594b7a037258",
   "metadata": {},
   "outputs": [
    {
     "data": {
      "text/latex": [
       "$\\displaystyle a{\\left(t \\right)}$"
      ],
      "text/plain": [
       "a(t)"
      ]
     },
     "execution_count": 4,
     "metadata": {},
     "output_type": "execute_result"
    }
   ],
   "source": [
    "a_t=T.func(\"a\")(t)\n"
   ]
  },
  {
   "cell_type": "code",
   "execution_count": 5,
   "id": "f457a7af-0edc-4728-a3f7-6b40712fc13f",
   "metadata": {},
   "outputs": [
    {
     "data": {
      "text/latex": [
       "$\\displaystyle \\rho{\\left(t \\right)}$"
      ],
      "text/plain": [
       "\\rho(t)"
      ]
     },
     "execution_count": 5,
     "metadata": {},
     "output_type": "execute_result"
    }
   ],
   "source": [
    "rho_t=T.func(\"rho\")(t)"
   ]
  },
  {
   "cell_type": "code",
   "execution_count": 6,
   "id": "2a47a4e5-bf7f-4358-9faf-af3278e860b5",
   "metadata": {},
   "outputs": [
    {
     "data": {
      "text/latex": [
       "$\\displaystyle P{\\left(t \\right)}$"
      ],
      "text/plain": [
       "P(t)"
      ]
     },
     "execution_count": 6,
     "metadata": {},
     "output_type": "execute_result"
    }
   ],
   "source": [
    "P_t=T.func(\"P\")(t)"
   ]
  },
  {
   "cell_type": "code",
   "execution_count": 7,
   "id": "b67c0d91-b314-4e55-a674-706ecf4d7f1d",
   "metadata": {},
   "outputs": [
    {
     "data": {
      "text/markdown": [
       "$$g{}_{\\mu}{}_{\\nu}\\Bigg|_{\\left(t, r, \\theta, \\phi\\right)} = \\left(\\begin{matrix}-1 & 0 & 0 & 0\\\\0 & \\frac{a^{2}}{- K r^{2} + 1} & 0 & 0\\\\0 & 0 & a^{2} r^{2} & 0\\\\0 & 0 & 0 & a^{2} r^{2} \\sin^{2}{\\left(\\theta \\right)}\\end{matrix}\\right)$$"
      ],
      "text/plain": [
       "<OGRePy._core.Metric at 0x1f66fb2fcd0>"
      ]
     },
     "execution_count": 7,
     "metadata": {},
     "output_type": "execute_result"
    }
   ],
   "source": [
    "FLRW=T.Metric(coords=Spherical,components=T.diag(-1,a_t**2 *(1/(1-K*r**2)),a_t**2*r**2,a_t**2*r**2 *T.s.sin(theta) ** 2))"
   ]
  },
  {
   "cell_type": "code",
   "execution_count": 8,
   "id": "9f49a2da-202c-4e34-a7ef-0ff2ccc2bc2f",
   "metadata": {},
   "outputs": [
    {
     "data": {
      "text/markdown": [
       "$$g{}_{\\mu}{}_{\\nu}\\Bigg|_{\\left(t, r, \\theta, \\phi\\right)} = \\left(\\begin{matrix}-1 & 0 & 0 & 0\\\\0 & \\frac{- K r^{2} + 1}{a^{2}} & 0 & 0\\\\0 & 0 & \\frac{1}{a^{2} r^{2}} & 0\\\\0 & 0 & 0 & \\frac{1}{a^{2} r^{2} \\sin^{2}{\\left(\\theta \\right)}}\\end{matrix}\\right)$$"
      ],
      "text/plain": [
       "<OGRePy._core.Metric at 0x1f66fb2c260>"
      ]
     },
     "execution_count": 8,
     "metadata": {},
     "output_type": "execute_result"
    }
   ],
   "source": [
    "InverseFLRW=T.Metric(coords=Spherical,components=T.diag(-1,1/(a_t**2 *(1/(1-K*r**2))),1/(a_t**2*r**2),1/(a_t**2*r**2 *T.s.sin(theta) ** 2)))"
   ]
  },
  {
   "cell_type": "code",
   "execution_count": 9,
   "id": "1e91829a-e3a2-4667-9e42-1afd20c439f5",
   "metadata": {},
   "outputs": [
    {
     "data": {
      "text/markdown": [
       "$$g{}^{\\mu}{}^{\\nu}\\Bigg|_{\\left(t, r, \\theta, \\phi\\right)} = \\left(\\begin{matrix}-1 & 0 & 0 & 0\\\\0 & \\frac{- K r^{2} + 1}{a^{2}} & 0 & 0\\\\0 & 0 & \\frac{1}{a^{2} r^{2}} & 0\\\\0 & 0 & 0 & \\frac{1}{a^{2} r^{2} \\sin^{2}{\\left(\\theta \\right)}}\\end{matrix}\\right)$$"
      ],
      "text/plain": [
       "<IPython.core.display.Markdown object>"
      ]
     },
     "metadata": {},
     "output_type": "display_data"
    }
   ],
   "source": [
    "FLRW.show(indices=(1,1))"
   ]
  },
  {
   "cell_type": "code",
   "execution_count": 10,
   "id": "a38b592f-09e1-47d0-b7ef-a5b528c234d7",
   "metadata": {},
   "outputs": [
    {
     "data": {
      "text/markdown": [
       "$$\\begin{align*}\n",
       "    g{}_{t}{}_{t} &= -1 \\\\\n",
       "    g{}_{r}{}_{r} &= \\frac{a^{2}}{- K r^{2} + 1} \\\\\n",
       "    g{}_{\\theta}{}_{\\theta} &= a^{2} r^{2} \\\\\n",
       "    g{}_{\\phi}{}_{\\phi} &= a^{2} r^{2} \\sin^{2}{\\left(\\theta \\right)} \n",
       "\\end{align*}$$"
      ],
      "text/plain": [
       "<IPython.core.display.Markdown object>"
      ]
     },
     "metadata": {},
     "output_type": "display_data"
    }
   ],
   "source": [
    "~FLRW"
   ]
  },
  {
   "cell_type": "code",
   "execution_count": 11,
   "id": "bedde255-95c6-44ea-8cfa-44e5b1e4cc30",
   "metadata": {},
   "outputs": [
    {
     "data": {
      "text/latex": [
       "$\\displaystyle \\mathrm{d}\\phi^{2} r^{2} a^{2}{\\left(t \\right)} \\sin^{2}{\\left(\\theta \\right)} + \\mathrm{d}\\theta^{2} r^{2} a^{2}{\\left(t \\right)} + \\frac{\\mathrm{d}r^{2} a^{2}{\\left(t \\right)}}{- K r^{2} + 1} - \\mathrm{d}t^{2}$"
      ],
      "text/plain": [
       "\\mathrm{d}\\phi**2*r**2*a(t)**2*sin(\\theta)**2 + \\mathrm{d}\\theta**2*r**2*a(t)**2 + \\mathrm{d}r**2*a(t)**2/(-K*r**2 + 1) - \\mathrm{d}t**2"
      ]
     },
     "execution_count": 11,
     "metadata": {},
     "output_type": "execute_result"
    }
   ],
   "source": [
    "FLRW.line_element()"
   ]
  },
  {
   "cell_type": "code",
   "execution_count": 54,
   "id": "22c59b27-e352-4e23-9fd4-e0a891db7c26",
   "metadata": {},
   "outputs": [
    {
     "data": {
      "text/markdown": [
       "**OGRePy**: Using default coordinate system `Spherical` and default index configuration (-1, -1)."
      ],
      "text/plain": [
       "<IPython.core.display.Markdown object>"
      ]
     },
     "metadata": {},
     "output_type": "display_data"
    },
    {
     "name": "stdout",
     "output_type": "stream",
     "text": [
      "<class 'sympy.tensor.array.dense_ndim_array.ImmutableDenseNDimArray'>\n",
      "<class 'OGRePy._core.Christoffel'>\n",
      "<class 'OGRePy._core.RicciTensor'>\n",
      "<class 'OGRePy._core.Einstein'>\n"
     ]
    }
   ],
   "source": [
    "print(type(FLRW.components()))       # Should indicate a tensor type\n",
    "print(type(FLRW.christoffel()))      # Should indicate a tensor type\n",
    "print(type(FLRW.ricci_tensor()))            # Should indicate a tensor type\n",
    "print(type(FLRW.einstein()))         # Should indicate a tensor type\n"
   ]
  },
  {
   "cell_type": "code",
   "execution_count": 55,
   "id": "68e2f0eb-4ee0-46ba-9a16-0dd182a61695",
   "metadata": {},
   "outputs": [
    {
     "name": "stdout",
     "output_type": "stream",
     "text": [
      "['__add__', '__annotations__', '__call__', '__class__', '__delattr__', '__dict__', '__dir__', '__doc__', '__eq__', '__format__', '__ge__', '__getattribute__', '__getitem__', '__getstate__', '__gt__', '__hash__', '__init__', '__init_subclass__', '__invert__', '__le__', '__lt__', '__matmul__', '__module__', '__mul__', '__ne__', '__neg__', '__new__', '__pos__', '__radd__', '__reduce__', '__reduce_ex__', '__repr__', '__rmatmul__', '__rmul__', '__rsub__', '__setattr__', '__sizeof__', '__slotnames__', '__slots__', '__str__', '__sub__', '__subclasshook__', '__weakref__', '_calc_letters', '_calc_representation', '_check_index_letters', '_christoffel', '_cleanup_notation', '_components', '_default_coords', '_default_indices', '_einstein', '_geodesic_from_christoffel', '_geodesic_from_lagrangian', '_geodesic_time_param', '_get_components', '_kretschmann', '_lagrangian', '_metric', '_process_show_list', '_repr_markdown_', '_ricci_scalar', '_ricci_tensor', '_riemann', '_store_components', '_symbol', '_tex_symbol', '_trace', '_transform_coordinates', '_transform_indices', '_validate_or_default_coords', '_validate_or_default_indices', 'christoffel', 'components', 'default_coords', 'default_indices', 'dim', 'einstein', 'geodesic_from_christoffel', 'geodesic_from_lagrangian', 'geodesic_time_param', 'index_letters', 'info', 'kretschmann', 'lagrangian', 'line_element', 'list', 'mathematica', 'metric', 'permute', 'rank', 'ricci_scalar', 'ricci_tensor', 'riemann', 'show', 'simplify', 'symbol', 'tex_components', 'tex_list', 'tex_show', 'tex_symbol', 'volume_element_squared']\n",
      "Help on method components in module OGRePy._core:\n",
      "\n",
      "components(*, indices: 'IndexConfiguration | None' = None, coords: 'Coordinates | None' = None, warn: 'bool' = True) -> 's.Array' method of OGRePy._core.Metric instance\n",
      "    Get the components of this tensor in a particular representation as a SymPy `Array`.\n",
      "    #### Parameters:\n",
      "    * `indices` (optional): A tuple of integers specifying the index configuration of the representation. Each integer in the tuple can be either +1 for an upper index or -1 for a lower index. If not specified, the tensor's default index configuration will be used.\n",
      "    * `coords` (optional): An OGRePy `Coordinates` object specifying the coordinate system of the representation. If not specified, the tensor's default coordinate system will be used.\n",
      "    * `warn` (optional): Whether to display a warning if using the default coordinate system and/or index configuration. This warning is intended to ensure that the user always knows which representation the components are given in, even if it is not specified explicitly. The default value is `True`; specify `warn=False` to suppress the warning.\n",
      "    #### Returns:\n",
      "    The desired components as a SymPy `Array`.\n",
      "\n"
     ]
    }
   ],
   "source": [
    "print(dir(FLRW))          # Lists all attributes and methods of FLRW\n",
    "help(FLRW.components)     # Provides documentation for the components method\n"
   ]
  },
  {
   "cell_type": "code",
   "execution_count": 56,
   "id": "e7d9060a-d220-40d6-8c6e-3eca19174ce5",
   "metadata": {},
   "outputs": [
    {
     "data": {
      "text/markdown": [
       "**OGRePy**: Using default coordinate system `Spherical` and default index configuration (-1, -1)."
      ],
      "text/plain": [
       "<IPython.core.display.Markdown object>"
      ]
     },
     "metadata": {},
     "output_type": "display_data"
    },
    {
     "name": "stdout",
     "output_type": "stream",
     "text": [
      "<class 'sympy.tensor.array.dense_ndim_array.ImmutableDenseNDimArray'>\n"
     ]
    }
   ],
   "source": [
    "# Call the components() method to get the metric tensor components\n",
    "g = FLRW.components()\n",
    "\n",
    "# Verify the type\n",
    "print(type(g))  # Should output: <class 'sympy.tensor.array.dense_ndim_array.ImmutableDenseNDimArray'>\n"
   ]
  },
  {
   "cell_type": "code",
   "execution_count": 61,
   "id": "a0f65da8-37ec-4197-85b1-5fe3cfb46628",
   "metadata": {},
   "outputs": [
    {
     "data": {
      "text/latex": [
       "$\\displaystyle r^{2} a^{2}{\\left(t \\right)} \\sin^{2}{\\left(\\theta \\right)}$"
      ],
      "text/plain": [
       "r**2*a(t)**2*sin(\\theta)**2"
      ]
     },
     "execution_count": 61,
     "metadata": {},
     "output_type": "execute_result"
    }
   ],
   "source": [
    "# Accessing metric tensor components\n",
    "g_tt = g[0, 0]\n",
    "g_rr = g[1, 1]\n",
    "g_theta_theta = g[2, 2]\n",
    "g_phi_phi = g[3, 3]\n",
    "\n",
    "\n"
   ]
  },
  {
   "cell_type": "code",
   "execution_count": 77,
   "id": "23ee8ece-5b3f-44e5-b43a-9f2119e92c0e",
   "metadata": {},
   "outputs": [
    {
     "data": {
      "text/latex": [
       "$\\displaystyle \\frac{a^{2}{\\left(t \\right)}}{- K r^{2} + 1}$"
      ],
      "text/plain": [
       "a(t)**2/(-K*r**2 + 1)"
      ]
     },
     "execution_count": 77,
     "metadata": {},
     "output_type": "execute_result"
    }
   ],
   "source": [
    "g[1,1]"
   ]
  },
  {
   "cell_type": "code",
   "execution_count": 62,
   "id": "3551361c-759c-4fdb-9481-59e71be3eaa6",
   "metadata": {},
   "outputs": [
    {
     "data": {
      "text/markdown": [
       "$$\\Gamma{}^{\\mu}{}_{\\nu}{}_{\\rho}\\Bigg|_{\\left(t, r, \\theta, \\phi\\right)} = \\left(\\begin{matrix}\\left(\\begin{matrix}0 & 0 & 0 & 0\\\\0 & - \\frac{\\partial_{t} a a}{K r^{2} - 1} & 0 & 0\\\\0 & 0 & \\partial_{t} a a r^{2} & 0\\\\0 & 0 & 0 & \\partial_{t} a a r^{2} \\sin^{2}{\\left(\\theta \\right)}\\end{matrix}\\right) & \\left(\\begin{matrix}0 & \\frac{\\partial_{t} a}{a} & 0 & 0\\\\\\frac{\\partial_{t} a}{a} & - \\frac{K r}{K r^{2} - 1} & 0 & 0\\\\0 & 0 & K r^{3} - r & 0\\\\0 & 0 & 0 & r \\left(K r^{2} - 1\\right) \\sin^{2}{\\left(\\theta \\right)}\\end{matrix}\\right) & \\left(\\begin{matrix}0 & 0 & \\frac{\\partial_{t} a}{a} & 0\\\\0 & 0 & \\frac{1}{r} & 0\\\\\\frac{\\partial_{t} a}{a} & \\frac{1}{r} & 0 & 0\\\\0 & 0 & 0 & - \\frac{\\sin{\\left(2 \\theta \\right)}}{2}\\end{matrix}\\right) & \\left(\\begin{matrix}0 & 0 & 0 & \\frac{\\partial_{t} a}{a}\\\\0 & 0 & 0 & \\frac{1}{r}\\\\0 & 0 & 0 & \\frac{1}{\\tan{\\left(\\theta \\right)}}\\\\\\frac{\\partial_{t} a}{a} & \\frac{1}{r} & \\frac{1}{\\tan{\\left(\\theta \\right)}} & 0\\end{matrix}\\right)\\end{matrix}\\right)$$"
      ],
      "text/plain": [
       "<OGRePy._core.Christoffel at 0x1f66fc37a10>"
      ]
     },
     "execution_count": 62,
     "metadata": {},
     "output_type": "execute_result"
    }
   ],
   "source": [
    "# Calculate Christoffel symbols by calling the method\n",
    "Gamma = FLRW.christoffel()\n"
   ]
  },
  {
   "cell_type": "code",
   "execution_count": 63,
   "id": "eedb6073-e800-43d9-a4f7-1184943e281c",
   "metadata": {},
   "outputs": [
    {
     "data": {
      "text/markdown": [
       "**OGRePy**: Using default coordinate system `Spherical` and default index configuration (1, -1, -1)."
      ],
      "text/plain": [
       "<IPython.core.display.Markdown object>"
      ]
     },
     "metadata": {},
     "output_type": "display_data"
    },
    {
     "name": "stdout",
     "output_type": "stream",
     "text": [
      "<class 'sympy.tensor.array.dense_ndim_array.ImmutableDenseNDimArray'>\n"
     ]
    }
   ],
   "source": [
    "# Call the components() method on the Christoffel object\n",
    "Gamma_components = Gamma.components()\n",
    "\n",
    "# Verify the type\n",
    "print(type(Gamma_components))  # Should output: <class 'sympy.tensor.array.dense_ndim_array.ImmutableDenseNDimArray'>\n"
   ]
  },
  {
   "cell_type": "code",
   "execution_count": 70,
   "id": "b5c64921-3e1e-4bda-8d7f-5456fdc11cda",
   "metadata": {},
   "outputs": [
    {
     "data": {
      "text/latex": [
       "$\\displaystyle r^{2} a{\\left(t \\right)} \\frac{d}{d t} a{\\left(t \\right)}$"
      ],
      "text/plain": [
       "r**2*a(t)*Derivative(a(t), t)"
      ]
     },
     "execution_count": 70,
     "metadata": {},
     "output_type": "execute_result"
    }
   ],
   "source": [
    "# Example: Access Γ^1_{23}\n",
    "Gamma_022 = Gamma_components[0, 2, 2]\n",
    "Gamma_022\n",
    "\n",
    "\n"
   ]
  },
  {
   "cell_type": "code",
   "execution_count": 12,
   "id": "bbe2a317-f5c7-46b4-a4d5-a01d61b73588",
   "metadata": {},
   "outputs": [
    {
     "data": {
      "text/markdown": [
       "$$\\begin{align*}\n",
       "    \\Gamma{}^{t}{}_{r}{}_{r} &= - \\frac{\\partial_{t} a a}{K r^{2} - 1} \\\\\n",
       "    \\Gamma{}^{t}{}_{\\theta}{}_{\\theta} &= \\partial_{t} a a r^{2} \\\\\n",
       "    \\Gamma{}^{t}{}_{\\phi}{}_{\\phi} &= \\partial_{t} a a r^{2} \\sin^{2}{\\left(\\theta \\right)} \\\\\n",
       "    \\Gamma{}^{r}{}_{t}{}_{r} = \\Gamma{}^{r}{}_{r}{}_{t} = \\Gamma{}^{\\theta}{}_{t}{}_{\\theta} = \\Gamma{}^{\\theta}{}_{\\theta}{}_{t} = \\Gamma{}^{\\phi}{}_{t}{}_{\\phi} = \\Gamma{}^{\\phi}{}_{\\phi}{}_{t} &= \\frac{\\partial_{t} a}{a} \\\\\n",
       "    \\Gamma{}^{r}{}_{r}{}_{r} &= - \\frac{K r}{K r^{2} - 1} \\\\\n",
       "    \\Gamma{}^{r}{}_{\\theta}{}_{\\theta} &= K r^{3} - r \\\\\n",
       "    \\Gamma{}^{r}{}_{\\phi}{}_{\\phi} &= r \\left(K r^{2} - 1\\right) \\sin^{2}{\\left(\\theta \\right)} \\\\\n",
       "    \\Gamma{}^{\\theta}{}_{r}{}_{\\theta} = \\Gamma{}^{\\theta}{}_{\\theta}{}_{r} = \\Gamma{}^{\\phi}{}_{r}{}_{\\phi} = \\Gamma{}^{\\phi}{}_{\\phi}{}_{r} &= \\frac{1}{r} \\\\\n",
       "    \\Gamma{}^{\\theta}{}_{\\phi}{}_{\\phi} &= - \\frac{\\sin{\\left(2 \\theta \\right)}}{2} \\\\\n",
       "    \\Gamma{}^{\\phi}{}_{\\theta}{}_{\\phi} = \\Gamma{}^{\\phi}{}_{\\phi}{}_{\\theta} &= \\frac{1}{\\tan{\\left(\\theta \\right)}} \n",
       "\\end{align*}$$"
      ],
      "text/plain": [
       "<IPython.core.display.Markdown object>"
      ]
     },
     "metadata": {},
     "output_type": "display_data"
    }
   ],
   "source": [
    "~FLRW.christoffel()"
   ]
  },
  {
   "cell_type": "code",
   "execution_count": 71,
   "id": "92d4d3b8-2928-4663-b369-f20a58427d7a",
   "metadata": {},
   "outputs": [
    {
     "data": {
      "text/markdown": [
       "$$R{}_{\\mu}{}_{\\nu}\\Bigg|_{\\left(t, r, \\theta, \\phi\\right)} = \\left(\\begin{matrix}- \\frac{3 \\frac{\\mathrm{d}}{\\mathrm{d} t} \\partial_{t} a}{a} & 0 & 0 & 0\\\\0 & \\frac{- 2 K - 2 \\partial_{t} a^{2} - a \\frac{\\mathrm{d}}{\\mathrm{d} t} \\partial_{t} a}{K r^{2} - 1} & 0 & 0\\\\0 & 0 & r^{2} \\left(2 K + 2 \\partial_{t} a^{2} + a \\frac{\\mathrm{d}}{\\mathrm{d} t} \\partial_{t} a\\right) & 0\\\\0 & 0 & 0 & r^{2} \\left(2 K + 2 \\partial_{t} a^{2} + a \\frac{\\mathrm{d}}{\\mathrm{d} t} \\partial_{t} a\\right) \\sin^{2}{\\left(\\theta \\right)}\\end{matrix}\\right)$$"
      ],
      "text/plain": [
       "<OGRePy._core.RicciTensor at 0x1f67003e0f0>"
      ]
     },
     "execution_count": 71,
     "metadata": {},
     "output_type": "execute_result"
    }
   ],
   "source": [
    "# Calculate Ricci tensor by calling the method\n",
    "Ricci = FLRW.ricci_tensor()\n"
   ]
  },
  {
   "cell_type": "code",
   "execution_count": 72,
   "id": "0322b075-0989-43d1-a3d0-d4fd8d881dc5",
   "metadata": {},
   "outputs": [
    {
     "data": {
      "text/markdown": [
       "**OGRePy**: Using default coordinate system `Spherical` and default index configuration (-1, -1)."
      ],
      "text/plain": [
       "<IPython.core.display.Markdown object>"
      ]
     },
     "metadata": {},
     "output_type": "display_data"
    },
    {
     "name": "stdout",
     "output_type": "stream",
     "text": [
      "<class 'sympy.tensor.array.dense_ndim_array.ImmutableDenseNDimArray'>\n"
     ]
    }
   ],
   "source": [
    "# Call the components() method on the Ricci tensor object\n",
    "Ricci_components = Ricci.components()\n",
    "\n",
    "# Verify the type\n",
    "print(type(Ricci_components))  # Should output: <class 'sympy.tensor.array.dense_ndim_array.ImmutableDenseNDimArray'>\n"
   ]
  },
  {
   "cell_type": "code",
   "execution_count": 73,
   "id": "b7dc8409-7f9d-458b-b955-b7cb184d2c7b",
   "metadata": {},
   "outputs": [
    {
     "data": {
      "text/latex": [
       "$\\displaystyle \\frac{- 2 K - a{\\left(t \\right)} \\frac{d^{2}}{d t^{2}} a{\\left(t \\right)} - 2 \\left(\\frac{d}{d t} a{\\left(t \\right)}\\right)^{2}}{K r^{2} - 1}$"
      ],
      "text/plain": [
       "(-2*K - a(t)*Derivative(a(t), (t, 2)) - 2*Derivative(a(t), t)**2)/(K*r**2 - 1)"
      ]
     },
     "execution_count": 73,
     "metadata": {},
     "output_type": "execute_result"
    }
   ],
   "source": [
    "\n",
    "\n",
    "# Example: Access R_rr\n",
    "R_rr = Ricci_components[1, 1]\n",
    "R_rr\n"
   ]
  },
  {
   "cell_type": "code",
   "execution_count": 13,
   "id": "49c5e044-6c14-4044-9037-dcd3e5eeae6d",
   "metadata": {},
   "outputs": [
    {
     "data": {
      "text/markdown": [
       "$$\\begin{align*}\n",
       "    R{}_{t}{}_{t} &= - \\frac{3 \\frac{\\mathrm{d}}{\\mathrm{d} t} \\partial_{t} a}{a} \\\\\n",
       "    R{}_{r}{}_{r} &= \\frac{- 2 K - 2 \\partial_{t} a^{2} - a \\frac{\\mathrm{d}}{\\mathrm{d} t} \\partial_{t} a}{K r^{2} - 1} \\\\\n",
       "    R{}_{\\theta}{}_{\\theta} &= r^{2} \\left(2 K + 2 \\partial_{t} a^{2} + a \\frac{\\mathrm{d}}{\\mathrm{d} t} \\partial_{t} a\\right) \\\\\n",
       "    R{}_{\\phi}{}_{\\phi} &= r^{2} \\left(2 K + 2 \\partial_{t} a^{2} + a \\frac{\\mathrm{d}}{\\mathrm{d} t} \\partial_{t} a\\right) \\sin^{2}{\\left(\\theta \\right)} \n",
       "\\end{align*}$$"
      ],
      "text/plain": [
       "<IPython.core.display.Markdown object>"
      ]
     },
     "metadata": {},
     "output_type": "display_data"
    }
   ],
   "source": [
    "~FLRW.ricci_tensor()"
   ]
  },
  {
   "cell_type": "code",
   "execution_count": 14,
   "id": "639fc629-750f-4ef2-8d0f-153ce956042e",
   "metadata": {},
   "outputs": [
    {
     "data": {
      "text/markdown": [
       "$$\\begin{align*}\n",
       "    R &= \\frac{6 \\left(K + \\partial_{t} a^{2} + a \\frac{\\mathrm{d}}{\\mathrm{d} t} \\partial_{t} a\\right)}{a^{2}} \n",
       "\\end{align*}$$"
      ],
      "text/plain": [
       "<IPython.core.display.Markdown object>"
      ]
     },
     "metadata": {},
     "output_type": "display_data"
    }
   ],
   "source": [
    "~FLRW.ricci_scalar()"
   ]
  },
  {
   "cell_type": "code",
   "execution_count": 74,
   "id": "c091f123-2120-4883-8525-9ccc1ba90b1b",
   "metadata": {},
   "outputs": [
    {
     "data": {
      "text/markdown": [
       "$$G{}_{\\mu}{}_{\\nu}\\Bigg|_{\\left(t, r, \\theta, \\phi\\right)} = \\left(\\begin{matrix}\\frac{3 \\left(K + \\partial_{t} a^{2}\\right)}{a^{2}} & 0 & 0 & 0\\\\0 & \\frac{K + \\partial_{t} a^{2} + 2 a \\frac{\\mathrm{d}}{\\mathrm{d} t} \\partial_{t} a}{K r^{2} - 1} & 0 & 0\\\\0 & 0 & r^{2} \\left(- K - \\partial_{t} a^{2} - 2 a \\frac{\\mathrm{d}}{\\mathrm{d} t} \\partial_{t} a\\right) & 0\\\\0 & 0 & 0 & r^{2} \\left(- K - \\partial_{t} a^{2} - 2 a \\frac{\\mathrm{d}}{\\mathrm{d} t} \\partial_{t} a\\right) \\sin^{2}{\\left(\\theta \\right)}\\end{matrix}\\right)$$"
      ],
      "text/plain": [
       "<OGRePy._core.Einstein at 0x1f67024e750>"
      ]
     },
     "execution_count": 74,
     "metadata": {},
     "output_type": "execute_result"
    }
   ],
   "source": [
    "# Calculate Einstein tensor by calling the method\n",
    "Einstein = FLRW.einstein()\n"
   ]
  },
  {
   "cell_type": "code",
   "execution_count": 75,
   "id": "f05a9d21-22cc-484a-8f53-ff81fe1faf93",
   "metadata": {},
   "outputs": [
    {
     "data": {
      "text/markdown": [
       "**OGRePy**: Using default coordinate system `Spherical` and default index configuration (-1, -1)."
      ],
      "text/plain": [
       "<IPython.core.display.Markdown object>"
      ]
     },
     "metadata": {},
     "output_type": "display_data"
    },
    {
     "name": "stdout",
     "output_type": "stream",
     "text": [
      "<class 'sympy.tensor.array.dense_ndim_array.ImmutableDenseNDimArray'>\n"
     ]
    }
   ],
   "source": [
    "# Call the components() method on the Einstein tensor object\n",
    "Einstein_components = Einstein.components()\n",
    "\n",
    "# Verify the type\n",
    "print(type(Einstein_components))  # Should output: <class 'sympy.tensor.array.dense_ndim_array.ImmutableDenseNDimArray'>\n"
   ]
  },
  {
   "cell_type": "code",
   "execution_count": 78,
   "id": "d6d535c6-2c22-4bce-988d-9d856861fd28",
   "metadata": {},
   "outputs": [
    {
     "data": {
      "text/latex": [
       "$\\displaystyle \\frac{3 \\left(K + \\left(\\frac{d}{d t} a{\\left(t \\right)}\\right)^{2}\\right)}{a^{2}{\\left(t \\right)}}$"
      ],
      "text/plain": [
       "3*(K + Derivative(a(t), t)**2)/a(t)**2"
      ]
     },
     "execution_count": 78,
     "metadata": {},
     "output_type": "execute_result"
    }
   ],
   "source": [
    "G_tt=Einstein_components[0,0]\n",
    "G_tt"
   ]
  },
  {
   "cell_type": "code",
   "execution_count": 76,
   "id": "1f4f9a5f-30f7-4a88-b143-4564a4c94c36",
   "metadata": {},
   "outputs": [
    {
     "data": {
      "text/latex": [
       "$\\displaystyle \\frac{K + 2 a{\\left(t \\right)} \\frac{d^{2}}{d t^{2}} a{\\left(t \\right)} + \\left(\\frac{d}{d t} a{\\left(t \\right)}\\right)^{2}}{K r^{2} - 1}$"
      ],
      "text/plain": [
       "(K + 2*a(t)*Derivative(a(t), (t, 2)) + Derivative(a(t), t)**2)/(K*r**2 - 1)"
      ]
     },
     "execution_count": 76,
     "metadata": {},
     "output_type": "execute_result"
    }
   ],
   "source": [
    "\n",
    "\n",
    "# Example: Access G_rr\n",
    "G_rr = Einstein_components[1, 1]\n",
    "G_rr\n"
   ]
  },
  {
   "cell_type": "code",
   "execution_count": 15,
   "id": "c2492f11-8b1c-484e-9ed5-44459cf441b2",
   "metadata": {},
   "outputs": [
    {
     "data": {
      "text/markdown": [
       "$$\\begin{align*}\n",
       "    G{}_{t}{}_{t} &= \\frac{3 \\left(K + \\partial_{t} a^{2}\\right)}{a^{2}} \\\\\n",
       "    G{}_{r}{}_{r} &= \\frac{K + \\partial_{t} a^{2} + 2 a \\frac{\\mathrm{d}}{\\mathrm{d} t} \\partial_{t} a}{K r^{2} - 1} \\\\\n",
       "    G{}_{\\theta}{}_{\\theta} &= r^{2} \\left(- K - \\partial_{t} a^{2} - 2 a \\frac{\\mathrm{d}}{\\mathrm{d} t} \\partial_{t} a\\right) \\\\\n",
       "    G{}_{\\phi}{}_{\\phi} &= r^{2} \\left(- K - \\partial_{t} a^{2} - 2 a \\frac{\\mathrm{d}}{\\mathrm{d} t} \\partial_{t} a\\right) \\sin^{2}{\\left(\\theta \\right)} \n",
       "\\end{align*}$$"
      ],
      "text/plain": [
       "<IPython.core.display.Markdown object>"
      ]
     },
     "metadata": {},
     "output_type": "display_data"
    }
   ],
   "source": [
    "~FLRW.einstein()"
   ]
  },
  {
   "cell_type": "code",
   "execution_count": 16,
   "id": "f74850cd-897b-403d-8403-555c53a7c07b",
   "metadata": {},
   "outputs": [
    {
     "data": {
      "text/markdown": [
       "$$\\text{No non-zero elements.}$$"
      ],
      "text/plain": [
       "<IPython.core.display.Markdown object>"
      ]
     },
     "metadata": {},
     "output_type": "display_data"
    }
   ],
   "source": [
    "\n",
    "~(T.PartialD(mu) @ FLRW(alpha,beta) - FLRW.christoffel(lamda,mu,alpha)@FLRW(lamda,beta)-FLRW.christoffel(lamda,mu,beta)@FLRW(lamda,alpha))"
   ]
  },
  {
   "cell_type": "code",
   "execution_count": 17,
   "id": "bf8fb20a-64b8-4a54-a82e-326ac71252f9",
   "metadata": {},
   "outputs": [
    {
     "data": {
      "text/markdown": [
       "$$u{}_{\\mu}\\Bigg|_{\\left(t, r, \\theta, \\phi\\right)} = \\left(\\begin{matrix}1\\\\0\\\\0\\\\0\\end{matrix}\\right)$$"
      ],
      "text/plain": [
       "<OGRePy._core.Tensor at 0x1f670276a20>"
      ]
     },
     "execution_count": 17,
     "metadata": {},
     "output_type": "execute_result"
    }
   ],
   "source": [
    "RestVelocity=T.Tensor(metric=FLRW,coords=Spherical,indices=(-1,),components=[1,0,0,0],symbol=\"u\")"
   ]
  },
  {
   "cell_type": "code",
   "execution_count": null,
   "id": "9c129d8a-13c5-44de-ac48-98d5bb0d5e80",
   "metadata": {},
   "outputs": [],
   "source": [
    "rho_t=T.func(\"rho\")(t)"
   ]
  },
  {
   "cell_type": "code",
   "execution_count": null,
   "id": "8ab8facc-df05-462e-b2c7-819ea8556308",
   "metadata": {},
   "outputs": [],
   "source": [
    "P_t=T.func(\"P\")(t)"
   ]
  },
  {
   "cell_type": "code",
   "execution_count": 18,
   "id": "a92053e5-7c0a-4450-a314-fdacaa64a0b8",
   "metadata": {},
   "outputs": [
    {
     "data": {
      "text/markdown": [
       "$$T{}_{\\mu}{}_{\\nu}\\Bigg|_{\\left(t, r, \\theta, \\phi\\right)} = \\left(\\begin{matrix}\\rho{\\left(t \\right)} & 0 & 0 & 0\\\\0 & - \\frac{P a^{2}}{K r^{2} - 1} & 0 & 0\\\\0 & 0 & P a^{2} r^{2} & 0\\\\0 & 0 & 0 & P a^{2} r^{2} \\sin^{2}{\\left(\\theta \\right)}\\end{matrix}\\right)$$"
      ],
      "text/plain": [
       "<OGRePy._core.Tensor at 0x1f6702e1c10>"
      ]
     },
     "execution_count": 18,
     "metadata": {},
     "output_type": "execute_result"
    }
   ],
   "source": [
    "PerfectFluidFLRW=T.calc(formula=(rho_t+P_t)*RestVelocity(mu)@RestVelocity(nu)+P_t*FLRW(mu,nu),symbol=\"T\")"
   ]
  },
  {
   "cell_type": "code",
   "execution_count": 19,
   "id": "256abf67-039a-493a-8a93-b15994343e33",
   "metadata": {},
   "outputs": [
    {
     "data": {
      "text/markdown": [
       "$$\\begin{align*}\n",
       "    \\nabla{}_{\\mu} T{}^{\\mu}{}_{t} &= \\frac{- \\partial_{t} \\rho{\\left(t \\right)} a - 3 \\partial_{t} a \\left(P + \\rho{\\left(t \\right)}\\right)}{a} \n",
       "\\end{align*}$$"
      ],
      "text/plain": [
       "<IPython.core.display.Markdown object>"
      ]
     },
     "metadata": {},
     "output_type": "display_data"
    }
   ],
   "source": [
    "~(T.CovariantD(mu)@PerfectFluidFLRW(mu,nu))"
   ]
  },
  {
   "cell_type": "code",
   "execution_count": 22,
   "id": "3d5b57e2-0366-4763-a237-fa3a16216ce1",
   "metadata": {},
   "outputs": [
    {
     "data": {
      "text/plain": [
       "P"
      ]
     },
     "execution_count": 22,
     "metadata": {},
     "output_type": "execute_result"
    }
   ],
   "source": [
    "t, r, theta, phi = sp.symbols('t r theta phi')\n",
    "a = sp.Function('a')\n",
    "K = sp.symbols('K')\n",
    "mu=sp.symbols(\"mu\")\n",
    "\n",
    "rho = sp.Function('rho')\n",
    "P = sp.Function('P')"
   ]
  },
  {
   "cell_type": "code",
   "execution_count": 21,
   "id": "d41766ad-cd8e-4143-92f4-50296b93bf80",
   "metadata": {},
   "outputs": [
    {
     "data": {
      "text/latex": [
       "$\\displaystyle \\frac{3 \\left(P{\\left(t \\right)} + \\rho{\\left(t \\right)}\\right) \\frac{d}{d t} a{\\left(t \\right)}}{a{\\left(t \\right)}} + \\frac{d}{d t} \\rho{\\left(t \\right)} = 0$"
      ],
      "text/plain": [
       "Eq(3*(P(t) + rho(t))*Derivative(a(t), t)/a(t) + Derivative(rho(t), t), 0)"
      ]
     },
     "execution_count": 21,
     "metadata": {},
     "output_type": "execute_result"
    }
   ],
   "source": [
    "Conservation_Equation=sp.Eq(sp.diff(rho(t),t)+ 3*sp.diff(a(t),t)/a(t) * (P(t)+rho(t)),0)\n",
    "Conservation_Equation"
   ]
  },
  {
   "cell_type": "code",
   "execution_count": 23,
   "id": "ba5290b9-02ae-4053-b1be-bd7544e94686",
   "metadata": {},
   "outputs": [
    {
     "data": {
      "text/latex": [
       "$\\displaystyle P{\\left(t \\right)} = \\mu \\rho{\\left(t \\right)}$"
      ],
      "text/plain": [
       "Eq(P(t), mu*rho(t))"
      ]
     },
     "execution_count": 23,
     "metadata": {},
     "output_type": "execute_result"
    }
   ],
   "source": [
    "Equation_of_state=sp.Eq(P(t),mu*rho(t))\n",
    "Equation_of_state"
   ]
  },
  {
   "cell_type": "code",
   "execution_count": 24,
   "id": "c7c819f4-56e8-45b1-b5f9-0a28fbfb0057",
   "metadata": {},
   "outputs": [
    {
     "data": {
      "text/latex": [
       "$\\displaystyle P{\\left(t \\right)} = 0$"
      ],
      "text/plain": [
       "Eq(P(t), 0)"
      ]
     },
     "execution_count": 24,
     "metadata": {},
     "output_type": "execute_result"
    }
   ],
   "source": [
    "Equation_of_state=sp.Eq(P(t),Equation_of_state.rhs.subs(mu,0))\n",
    "Equation_of_state"
   ]
  },
  {
   "cell_type": "code",
   "execution_count": 25,
   "id": "0a99b792-43f7-4e0f-bd03-d8bc492d8b46",
   "metadata": {},
   "outputs": [
    {
     "data": {
      "text/latex": [
       "$\\displaystyle \\frac{d}{d t} \\rho{\\left(t \\right)} + \\frac{3 \\rho{\\left(t \\right)} \\frac{d}{d t} a{\\left(t \\right)}}{a{\\left(t \\right)}} = 0$"
      ],
      "text/plain": [
       "Eq(Derivative(rho(t), t) + 3*rho(t)*Derivative(a(t), t)/a(t), 0)"
      ]
     },
     "execution_count": 25,
     "metadata": {},
     "output_type": "execute_result"
    }
   ],
   "source": [
    "Conservation_Equation=sp.Eq(Conservation_Equation.lhs.subs(P(t),0),0)\n",
    "Conservation_Equation"
   ]
  },
  {
   "cell_type": "code",
   "execution_count": 79,
   "id": "09e9cc5b-e9bd-4416-8d91-18e382f07b17",
   "metadata": {},
   "outputs": [
    {
     "data": {
      "text/latex": [
       "$\\displaystyle \\frac{3 \\left(K + \\left(\\frac{d}{d t} a{\\left(t \\right)}\\right)^{2}\\right)}{a^{2}{\\left(t \\right)}} = 8 \\pi \\rho{\\left(t \\right)}$"
      ],
      "text/plain": [
       "Eq(3*(K + Derivative(a(t), t)**2)/a(t)**2, 8*pi*rho(t))"
      ]
     },
     "execution_count": 79,
     "metadata": {},
     "output_type": "execute_result"
    }
   ],
   "source": [
    "EFE_1=sp.Eq(G_tt,8*sp.pi*rho(t))"
   ]
  },
  {
   "cell_type": "code",
   "execution_count": 32,
   "id": "a54df3da-37a9-4c42-91aa-0cdff90510eb",
   "metadata": {},
   "outputs": [
    {
     "data": {
      "text/latex": [
       "$\\displaystyle \\frac{3 \\left(K + \\left(\\frac{d}{d t} a{\\left(t \\right)}\\right)^{2}\\right)}{8 \\pi a^{2}{\\left(t \\right)}}$"
      ],
      "text/plain": [
       "3*(K + Derivative(a(t), t)**2)/(8*pi*a(t)**2)"
      ]
     },
     "execution_count": 32,
     "metadata": {},
     "output_type": "execute_result"
    }
   ],
   "source": [
    "EFE_1_Solution=sp.solve(EFE_1,rho(t))[0]\n",
    "EFE_1_Solution"
   ]
  },
  {
   "cell_type": "code",
   "execution_count": 33,
   "id": "b7e71c3f-5f2c-4674-8455-6b1f055082fb",
   "metadata": {},
   "outputs": [
    {
     "data": {
      "text/latex": [
       "$\\displaystyle \\frac{9 \\left(K + \\left(\\frac{d}{d t} a{\\left(t \\right)}\\right)^{2}\\right) \\frac{d}{d t} a{\\left(t \\right)}}{8 \\pi a^{3}{\\left(t \\right)}} + \\frac{\\partial}{\\partial t} \\frac{3 \\left(K + \\left(\\frac{d}{d t} a{\\left(t \\right)}\\right)^{2}\\right)}{8 \\pi a^{2}{\\left(t \\right)}} = 0$"
      ],
      "text/plain": [
       "Eq(9*(K + Derivative(a(t), t)**2)*Derivative(a(t), t)/(8*pi*a(t)**3) + Derivative(3*(K + Derivative(a(t), t)**2)/(8*pi*a(t)**2), t), 0)"
      ]
     },
     "execution_count": 33,
     "metadata": {},
     "output_type": "execute_result"
    }
   ],
   "source": [
    "Conservation_Equation=sp.Eq(Conservation_Equation.lhs.subs(rho(t),EFE_1_Solution),0)"
   ]
  },
  {
   "cell_type": "code",
   "execution_count": 34,
   "id": "b25faeed-8c49-4e61-8b71-d552073d621f",
   "metadata": {},
   "outputs": [
    {
     "data": {
      "text/latex": [
       "$\\displaystyle \\frac{\\frac{9 \\left(K + \\left(\\frac{d}{d t} a{\\left(t \\right)}\\right)^{2}\\right) \\frac{d}{d t} a{\\left(t \\right)}}{8} + \\pi \\left(- \\frac{3 \\left(K + \\left(\\frac{d}{d t} a{\\left(t \\right)}\\right)^{2}\\right) \\frac{d}{d t} a{\\left(t \\right)}}{4 \\pi a^{3}{\\left(t \\right)}} + \\frac{3 \\frac{d}{d t} a{\\left(t \\right)} \\frac{d^{2}}{d t^{2}} a{\\left(t \\right)}}{4 \\pi a^{2}{\\left(t \\right)}}\\right) a^{3}{\\left(t \\right)}}{\\pi a^{3}{\\left(t \\right)}} = 0$"
      ],
      "text/plain": [
       "Eq((9*(K + Derivative(a(t), t)**2)*Derivative(a(t), t)/8 + pi*(-3*(K + Derivative(a(t), t)**2)*Derivative(a(t), t)/(4*pi*a(t)**3) + 3*Derivative(a(t), t)*Derivative(a(t), (t, 2))/(4*pi*a(t)**2))*a(t)**3)/(pi*a(t)**3), 0)"
      ]
     },
     "execution_count": 34,
     "metadata": {},
     "output_type": "execute_result"
    }
   ],
   "source": [
    "Conservation_Equation=sp.simplify(Conservation_Equation)"
   ]
  },
  {
   "cell_type": "code",
   "execution_count": 35,
   "id": "b647db32-f6cc-4e60-b672-38b40f0ad284",
   "metadata": {},
   "outputs": [
    {
     "data": {
      "text/latex": [
       "$\\displaystyle \\frac{\\pi \\left(- \\frac{3 \\left(\\left(\\frac{d}{d t} a{\\left(t \\right)}\\right)^{2} - 1\\right) \\frac{d}{d t} a{\\left(t \\right)}}{4 \\pi a^{3}{\\left(t \\right)}} + \\frac{3 \\frac{d}{d t} a{\\left(t \\right)} \\frac{d^{2}}{d t^{2}} a{\\left(t \\right)}}{4 \\pi a^{2}{\\left(t \\right)}}\\right) a^{3}{\\left(t \\right)} + \\frac{9 \\left(\\left(\\frac{d}{d t} a{\\left(t \\right)}\\right)^{2} - 1\\right) \\frac{d}{d t} a{\\left(t \\right)}}{8}}{\\pi a^{3}{\\left(t \\right)}} = 0$"
      ],
      "text/plain": [
       "Eq((pi*(-3*(Derivative(a(t), t)**2 - 1)*Derivative(a(t), t)/(4*pi*a(t)**3) + 3*Derivative(a(t), t)*Derivative(a(t), (t, 2))/(4*pi*a(t)**2))*a(t)**3 + 9*(Derivative(a(t), t)**2 - 1)*Derivative(a(t), t)/8)/(pi*a(t)**3), 0)"
      ]
     },
     "execution_count": 35,
     "metadata": {},
     "output_type": "execute_result"
    }
   ],
   "source": [
    "Conservation_Equation_1=sp.Eq(Conservation_Equation.lhs.subs(K,-1),0)\n",
    "Conservation_Equation_1"
   ]
  },
  {
   "cell_type": "code",
   "execution_count": 44,
   "id": "26b1d6d7-6edb-4f50-a460-b8a7eab0cd5e",
   "metadata": {},
   "outputs": [
    {
     "name": "stdout",
     "output_type": "stream",
     "text": [
      "The equation for K=-1 is\n"
     ]
    },
    {
     "data": {
      "text/latex": [
       "$\\displaystyle \\frac{3 \\left(2 a{\\left(t \\right)} \\frac{d^{2}}{d t^{2}} a{\\left(t \\right)} + \\left(\\frac{d}{d t} a{\\left(t \\right)}\\right)^{2} - 1\\right) \\frac{d}{d t} a{\\left(t \\right)}}{8 \\pi a^{3}{\\left(t \\right)}} = 0$"
      ],
      "text/plain": [
       "Eq(3*(2*a(t)*Derivative(a(t), (t, 2)) + Derivative(a(t), t)**2 - 1)*Derivative(a(t), t)/(8*pi*a(t)**3), 0)"
      ]
     },
     "execution_count": 44,
     "metadata": {},
     "output_type": "execute_result"
    }
   ],
   "source": [
    "Conservation_Equation_1=sp.simplify(Conservation_Equation_1)\n",
    "print(\"The equation for K=-1 is\",)\n",
    "Conservation_Equation_1"
   ]
  },
  {
   "cell_type": "code",
   "execution_count": 47,
   "id": "873e1598-70bf-4350-8a51-044c868fd190",
   "metadata": {},
   "outputs": [
    {
     "data": {
      "image/png": "[encoded data removed]",
      "text/plain": [
       "<Figure size 640x480 with 1 Axes>"
      ]
     },
     "metadata": {},
     "output_type": "display_data"
    }
   ],
   "source": [
    "# Define the ODE system\n",
    "def ode_system(t, y):\n",
    "    y1, y2 = y\n",
    "    dy1_dt = y2\n",
    "    dy2_dt = -0.5 * (y2**2) / y1 + 1/(2*y1)\n",
    "    return [dy1_dt, dy2_dt]\n",
    "\n",
    "# Initial conditions\n",
    "y1_0 = 1.0  # Initial value for a(t)\n",
    "y2_0 = 0.1  # Initial value for a'(t)\n",
    "y0 = [y1_0, y2_0]\n",
    "\n",
    "# Time span for the solution\n",
    "t_span = (0, 10)\n",
    "t_eval = np.linspace(*t_span, 400)\n",
    "\n",
    "# Solve the system of ODEs\n",
    "sol = solve_ivp(ode_system, t_span, y0, t_eval=t_eval)\n",
    "\n",
    "# Extract the solution\n",
    "a_vals = sol.y[0]  # y1 = a(t) values\n",
    "\n",
    "# Plot the solution for a(t)\n",
    "plt.plot(sol.t, a_vals)\n",
    "plt.xlabel('t')\n",
    "plt.ylabel('a(t)')\n",
    "plt.title('Numerical Solution of the Differential Equation for k=-1')\n",
    "plt.grid(True)\n",
    "plt.show()"
   ]
  },
  {
   "cell_type": "code",
   "execution_count": 37,
   "id": "7890cebd-0df8-4313-b6fa-f326befee12a",
   "metadata": {},
   "outputs": [
    {
     "data": {
      "text/latex": [
       "$\\displaystyle \\frac{\\pi \\left(\\frac{3 \\frac{d}{d t} a{\\left(t \\right)} \\frac{d^{2}}{d t^{2}} a{\\left(t \\right)}}{4 \\pi a^{2}{\\left(t \\right)}} - \\frac{3 \\left(\\frac{d}{d t} a{\\left(t \\right)}\\right)^{3}}{4 \\pi a^{3}{\\left(t \\right)}}\\right) a^{3}{\\left(t \\right)} + \\frac{9 \\left(\\frac{d}{d t} a{\\left(t \\right)}\\right)^{3}}{8}}{\\pi a^{3}{\\left(t \\right)}} = 0$"
      ],
      "text/plain": [
       "Eq((pi*(3*Derivative(a(t), t)*Derivative(a(t), (t, 2))/(4*pi*a(t)**2) - 3*Derivative(a(t), t)**3/(4*pi*a(t)**3))*a(t)**3 + 9*Derivative(a(t), t)**3/8)/(pi*a(t)**3), 0)"
      ]
     },
     "execution_count": 37,
     "metadata": {},
     "output_type": "execute_result"
    }
   ],
   "source": [
    "Conservation_Equation_2=sp.Eq(Conservation_Equation.lhs.subs(K,0),0)\n",
    "Conservation_Equation_2"
   ]
  },
  {
   "cell_type": "code",
   "execution_count": 45,
   "id": "0d1bd7b4-de12-4dd4-87f8-7f0903794287",
   "metadata": {},
   "outputs": [
    {
     "name": "stdout",
     "output_type": "stream",
     "text": [
      "The equation for K=0 is\n"
     ]
    },
    {
     "data": {
      "text/latex": [
       "$\\displaystyle \\frac{3 \\left(2 a{\\left(t \\right)} \\frac{d^{2}}{d t^{2}} a{\\left(t \\right)} + \\left(\\frac{d}{d t} a{\\left(t \\right)}\\right)^{2}\\right) \\frac{d}{d t} a{\\left(t \\right)}}{8 \\pi a^{3}{\\left(t \\right)}} = 0$"
      ],
      "text/plain": [
       "Eq(3*(2*a(t)*Derivative(a(t), (t, 2)) + Derivative(a(t), t)**2)*Derivative(a(t), t)/(8*pi*a(t)**3), 0)"
      ]
     },
     "execution_count": 45,
     "metadata": {},
     "output_type": "execute_result"
    }
   ],
   "source": [
    "Conservation_Equation_2=sp.simplify(Conservation_Equation_2)\n",
    "print(\"The equation for K=0 is\",)\n",
    "Conservation_Equation_2"
   ]
  },
  {
   "cell_type": "code",
   "execution_count": 48,
   "id": "ac020ab3-44c8-4034-a51f-acb4ae22324f",
   "metadata": {},
   "outputs": [
    {
     "data": {
      "image/png": "[encoded data removed]",
      "text/plain": [
       "<Figure size 640x480 with 1 Axes>"
      ]
     },
     "metadata": {},
     "output_type": "display_data"
    }
   ],
   "source": [
    "# Define the ODE system\n",
    "def ode_system(t, y):\n",
    "    y1, y2 = y\n",
    "    dy1_dt = y2\n",
    "    dy2_dt = -0.5 * (y2**2) / y1\n",
    "    return [dy1_dt, dy2_dt]\n",
    "\n",
    "# Initial conditions\n",
    "y1_0 = 1.0  # Initial value for a(t)\n",
    "y2_0 = 0.1  # Initial value for a'(t)\n",
    "y0 = [y1_0, y2_0]\n",
    "\n",
    "# Time span for the solution\n",
    "t_span = (0, 10)\n",
    "t_eval = np.linspace(*t_span, 400)\n",
    "\n",
    "# Solve the system of ODEs\n",
    "sol = solve_ivp(ode_system, t_span, y0, t_eval=t_eval)\n",
    "\n",
    "# Extract the solution\n",
    "a_vals = sol.y[0]  # y1 = a(t) values\n",
    "\n",
    "# Plot the solution for a(t)\n",
    "plt.plot(sol.t, a_vals)\n",
    "plt.xlabel('t')\n",
    "plt.ylabel('a(t)')\n",
    "plt.title('Numerical Solution of the Differential Equation for k=0')\n",
    "plt.grid(True)\n",
    "plt.show()"
   ]
  },
  {
   "cell_type": "code",
   "execution_count": 39,
   "id": "70839e70-fefd-488e-8bb3-f2f529ae86e0",
   "metadata": {},
   "outputs": [
    {
     "data": {
      "text/latex": [
       "$\\displaystyle \\frac{\\pi \\left(- \\frac{3 \\left(\\left(\\frac{d}{d t} a{\\left(t \\right)}\\right)^{2} + 1\\right) \\frac{d}{d t} a{\\left(t \\right)}}{4 \\pi a^{3}{\\left(t \\right)}} + \\frac{3 \\frac{d}{d t} a{\\left(t \\right)} \\frac{d^{2}}{d t^{2}} a{\\left(t \\right)}}{4 \\pi a^{2}{\\left(t \\right)}}\\right) a^{3}{\\left(t \\right)} + \\frac{9 \\left(\\left(\\frac{d}{d t} a{\\left(t \\right)}\\right)^{2} + 1\\right) \\frac{d}{d t} a{\\left(t \\right)}}{8}}{\\pi a^{3}{\\left(t \\right)}} = 0$"
      ],
      "text/plain": [
       "Eq((pi*(-3*(Derivative(a(t), t)**2 + 1)*Derivative(a(t), t)/(4*pi*a(t)**3) + 3*Derivative(a(t), t)*Derivative(a(t), (t, 2))/(4*pi*a(t)**2))*a(t)**3 + 9*(Derivative(a(t), t)**2 + 1)*Derivative(a(t), t)/8)/(pi*a(t)**3), 0)"
      ]
     },
     "execution_count": 39,
     "metadata": {},
     "output_type": "execute_result"
    }
   ],
   "source": [
    "Conservation_Equation_3=sp.Eq(Conservation_Equation.lhs.subs(K,1),0)\n",
    "Conservation_Equation_3"
   ]
  },
  {
   "cell_type": "code",
   "execution_count": 46,
   "id": "09625c73-f405-4390-9d74-decca46eb74b",
   "metadata": {},
   "outputs": [
    {
     "name": "stdout",
     "output_type": "stream",
     "text": [
      "The equation for K=1 is\n"
     ]
    },
    {
     "data": {
      "text/latex": [
       "$\\displaystyle \\frac{3 \\left(2 a{\\left(t \\right)} \\frac{d^{2}}{d t^{2}} a{\\left(t \\right)} + \\left(\\frac{d}{d t} a{\\left(t \\right)}\\right)^{2} + 1\\right) \\frac{d}{d t} a{\\left(t \\right)}}{8 \\pi a^{3}{\\left(t \\right)}} = 0$"
      ],
      "text/plain": [
       "Eq(3*(2*a(t)*Derivative(a(t), (t, 2)) + Derivative(a(t), t)**2 + 1)*Derivative(a(t), t)/(8*pi*a(t)**3), 0)"
      ]
     },
     "execution_count": 46,
     "metadata": {},
     "output_type": "execute_result"
    }
   ],
   "source": [
    "Conservation_Equation_3=sp.simplify(Conservation_Equation_3)\n",
    "print(\"The equation for K=1 is\",)\n",
    "Conservation_Equation_3"
   ]
  },
  {
   "cell_type": "code",
   "execution_count": 49,
   "id": "4b15604b-35ef-4724-afff-6962c7a2a21f",
   "metadata": {},
   "outputs": [
    {
     "data": {
      "image/png": "[encoded data removed]",
      "text/plain": [
       "<Figure size 640x480 with 1 Axes>"
      ]
     },
     "metadata": {},
     "output_type": "display_data"
    }
   ],
   "source": [
    "# Define the ODE system\n",
    "def ode_system(t, y):\n",
    "    y1, y2 = y\n",
    "    dy1_dt = y2\n",
    "    dy2_dt = -0.5 * (y2**2) / y1 - 1/(2*y1)\n",
    "    return [dy1_dt, dy2_dt]\n",
    "\n",
    "# Initial conditions\n",
    "y1_0 = 1.0  # Initial value for a(t)\n",
    "y2_0 = 0.1  # Initial value for a'(t)\n",
    "y0 = [y1_0, y2_0]\n",
    "\n",
    "# Time span for the solution\n",
    "t_span = (0, 10)\n",
    "t_eval = np.linspace(*t_span, 400)\n",
    "\n",
    "# Solve the system of ODEs\n",
    "sol = solve_ivp(ode_system, t_span, y0, t_eval=t_eval)\n",
    "\n",
    "# Extract the solution\n",
    "a_vals = sol.y[0]  # y1 = a(t) values\n",
    "\n",
    "# Plot the solution for a(t)\n",
    "plt.plot(sol.t, a_vals)\n",
    "plt.xlabel('t')\n",
    "plt.ylabel('a(t)')\n",
    "plt.title('Numerical Solution of the Differential Equation for k=1')\n",
    "plt.grid(True)"
   ]
  },
  {
   "cell_type": "code",
   "execution_count": null,
   "id": "a8ee018a-fd0b-410c-811f-173930313705",
   "metadata": {},
   "outputs": [],
   "source": []
  }
 ],
 "metadata": {
  "kernelspec": {
   "display_name": "Python 3 (ipykernel)",
   "language": "python",
   "name": "python3"
  },
  "language_info": {
   "codemirror_mode": {
    "name": "ipython",
    "version": 3
   },
   "file_extension": ".py",
   "mimetype": "text/x-python",
   "name": "python",
   "nbconvert_exporter": "python",
   "pygments_lexer": "ipython3",
   "version": "3.12.4"
  }
 },
 "nbformat": 4,
 "nbformat_minor": 5
}
